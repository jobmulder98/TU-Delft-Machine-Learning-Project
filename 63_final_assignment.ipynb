{
 "cells": [
  {
   "cell_type": "code",
   "execution_count": 1,
   "id": "b3ab9a3d",
   "metadata": {},
   "outputs": [],
   "source": [
    "GROUP_NUMBER = \"63\"\n",
    "STUDENT_NAME1 = \"Job Mulder\"\n",
    "STUDENT_NUMBER1 = \"4538323\"\n",
    "STUDENT_NAME2 = \"Sam Bekkers\"\n",
    "STUDENT_NUMBER2 = \"4571770\""
   ]
  },
  {
   "cell_type": "code",
   "execution_count": 2,
   "id": "d8f97ea6",
   "metadata": {},
   "outputs": [],
   "source": [
    "# Note: this block is a check that you have filled in the above information.\n",
    "# It will throw an AssertionError until all fields are filled\n",
    "assert(GROUP_NUMBER != \"\")\n",
    "assert(STUDENT_NAME1 != \"\")\n",
    "assert(STUDENT_NUMBER1 != \"\")\n",
    "assert(STUDENT_NAME2 != \"\")\n",
    "assert(STUDENT_NUMBER2 != \"\")"
   ]
  },
  {
   "cell_type": "markdown",
   "id": "7c7a819d",
   "metadata": {},
   "source": [
    "---\n",
    "\n",
    "## Introduction\n",
    "We are in the year 2121. The newest sport sensation is solar robot racing. Similar to Formula 1, the races are held on different tracks, however times have changed and those are no longer in different countries but on different planets. The Earth track is well-known for its lush green surroundings, the Mars track for its bright red environment, the Saturn track is instantly recognizable for the brownish soil, and a new race track is currently being built on Neptune, promising a soothing blue background.\n",
    "\n",
    "Like in good old fashioned car racing, no modifications of the car are allowed between races, and in particular the AI cannot be changed. That means we need to develop one single machine learning model that is able to drive on all planets. From past competitions we have data from Earth, Mars, and Saturn (i.e., the 3 datasets provided) but we do not have any data from Neptune yet (i.e., this is a hidden test set), making this season extra challenging. However, we have the possibility to collect more data on 3 planets and can also use test tracks on planets not participating in the competition (i.e., the provided code that allows to collect more data and to change some properties of the environment).\n",
    "\n",
    "As you are just starting out as a solar robot racing AI engineer, you first get the familiarization assignment to train a model solely for Earth before moving on to designing a competition-grade AI.\n",
    "\n",
    "## Robot car AI\n",
    "\n",
    "In this competition, the robot car's actions need to be determined based on only the robot car's last observation (i.e. sensor measurements). More technically: the goal is to create a function $f(observation) \\rightarrow action$, which the robot can continuously apply in a loop on its sensor measurements to determine its next action. This type of function is often called a *policy*.\n",
    "\n",
    "In this assignment, the input and output of the policy function $f$ are defined as:\n",
    "- the input `observation` will be an RGB image (a numpy array) containing a top-down view of the robot's surroundings, including the road ahead.\n",
    "- the output `action` should be an integer out of one of the possible actions (an integer between 0 and 4):\n",
    "    0. Do nothing\n",
    "    1. Accelerate\n",
    "    2. Turn steer left\n",
    "    3. Turn steer right\n",
    "    4. Brake\n",
    "\n",
    "More details will be provided later in the section \"0. Code to get you started\" below.\n",
    "\n",
    "Note that the policy function will completely determine the behavior of the robot.\n",
    "You can think of the robot executing the policy in a never-ending loop (in pseudo-code):\n",
    "```python\n",
    "# Pseudo robot main loop with policy f\n",
    "while True:\n",
    "    observation = read_sensor_measurement()\n",
    "    action = f(observation) # apply the policy\n",
    "    execute_action(action)\n",
    "```\n",
    "In fact, the behavior is already implemented for you in a **simulator**. This means you can test a policy function $f$ by plugging it in the simulator and seeing how your robot car behaves!\n",
    "The simulator also allows us to quantify how well your robot behaved by returning a 'reward' value for each simulation step (a higher reward is better). More details on the rewards will be explained below in Section 0.\n",
    "\n",
    "## Task description: imitation learning\n",
    "\n",
    "These type of tasks, where a robot's policy needs to be optimized to achieve a high expected reward for operating in some environment, is often addressed through *reinforcement learning*. However, in this assigment we will *not* use reinforcement learning techniques, but mainly treat the problem as a **supervised classification task**.\n",
    "The training input (observations) and output (action labels) data will be obtained through demonstrations of humans *manually* controlling the robot car. By training your machine learning models on these demonstrations, you will create an AI which \"imitates\" how a human would drive. This type of supervised machine learning is therefore called *imitation learning*.\n",
    "\n",
    "There are some coding challenges and design choices that you have to solve to use human driving demonstrations as labeled data to create your machine learning models. As before, you will have to think about feature extraction, hyperparemeter optimization, evaluation metrics, comparing models, etc.\n",
    "\n",
    "Once you have trained a classification model, you could define a new policy function which uses your trained model, and test this policy in the simulator. Does your most succesful model also accumulate the most reward in the simulation? Can you make an AI which succesfully drives on known and unknown planets?"
   ]
  },
  {
   "cell_type": "markdown",
   "id": "ef10e769",
   "metadata": {},
   "source": [
    "## Deliverables\n",
    "The deadline is **Sunday October 24th, 2021 at 23:59**. Late submission is –1 grade point per day.\n",
    "\n",
    "* The main deliverable is this Jupyter Notebook, integrating the report (markdown cells) and the code.\n",
    "* Submission is again in the form of a single ZIP file that *includes your notebook, and all files required to run the notebook and reproduce the results*. This includes all used data/demonstrations (including the ones that were provided), any loadable parameter files, any auxiliary scripts, etc.\n",
    "* Name the ZIP file \"**GroupNumber_final_assignment.zip**\", e.g., if you are in group 456, the name would be \"456_final_assignment.zip\".\n",
    "* Unlike previous lab assignments, there are no autograded cells or asserts, but we will grade the notebook manually. Therefore, you are free to add cells as you see fit, as long as the required sections are still present in the notebook.\n",
    "* Make sure that the notebook runs correctly. That is, clear all outputs, restart the kernel and run the notebook from top to bottom. \n",
    "* The notebook needs to be able to run within 20 minutes on a high-end PC, performing all steps (also including training, the only exception is hyperparameter optimization which can be commented out).\n",
    "* In contrast to the practica, please submit the notebook *including* the output (i.e., do not clear the outputs before zipping it up). \n",
    "\n",
    "\n",
    "## Grading Criteria\n",
    "Below you will find an outline of the sections that the notebook needs to contain and what we expect for each part. More specific requirements are listed there as well. The indicated number of points, out of a total of 100, should give you a rough indication of how much effort to put into each part.\n",
    "\n",
    "In general, we will not focus as much on the performance of the method you design, but rather the _level of understanding and argumentation about your design choices_. So, we are not only interested in WHAT you did, but will put a strong emphasis on your reasoning about the WHY. Try to synthesize rather than describing what you did step by step.\n",
    "\n",
    "### Quality of the report (20 points)\n",
    "- Structure & Readability\n",
    " - Logical flow\n",
    " - Connection between parts\n",
    "- Academic English\n",
    " - Do not use short forms, like \"isn't\", \"wouldn't\".\n",
    " - Do not use colloquial style, like \"a couple of\".\n",
    " - Spell check and proofread your report.\n",
    "- Level of detail\n",
    " - Strive for elegant, concise text - longer reports do not necessarily yield higher grades.\n",
    " - There is no need to re-explain theory. Assume that the target audience of the report has followed the course.\n",
    "- Figures & Tables\n",
    " - Choose figures/plots/tables carefully. Only include those that add to the story of the report. Do not put the burden on the reviewer to figure out which results you basing your conclusions on, but specifically refer (parts of) the specific table/plot/figure when needed.\n",
    " - When comparing two or more signals display them in one plot. Explain the colors / line types. The scale of the plots must be carefully chosen in order to clearly convey the information intended. Label the axes in graphs properly (variables and units).\n",
    "- Citations\n",
    " - If you use images, theory and methods beyond what was covered in the course, etc., always reference sources.\n",
    "\n",
    "\n",
    "### Your implementations and answers (80 points)\n",
    "\n",
    "The remainder of this notebook follows the following structure:\n",
    "\n",
    "0. Code to get you starte (0 points, *nothing for you to do here*)\n",
    "1. Explore & Inspect the Data (5 points)\n",
    "2. Prepare the Data and Evaluate Features (15 points)\n",
    "3. Single Planet Action Classification  (35 points)\n",
    "4. Enabling Generalization (20 points)\n",
    "\n",
    "Apart from section 0, you will have to implement and answer questions for all of the other 4 sections to earn points. *For each of these 4 sections, we have various questions or implementation tasks that your submission should address. These are listed in the cells at the end of this notebook.*\n",
    "\n",
    "Note that there is not one best answer to these questions, and the task could be addressed in different ways. We want to know *your* motivation for *your* selected approach."
   ]
  },
  {
   "cell_type": "markdown",
   "id": "7bf01613",
   "metadata": {},
   "source": [
    "---\n",
    "\n",
    "# 0. Code to get you started\n",
    "\n",
    "Note, you will not have to implement anything in this section, but you are free to play around with what is provided here, or copy parts to new cells in your solutions."
   ]
  },
  {
   "cell_type": "code",
   "execution_count": 1,
   "id": "192dd7ba",
   "metadata": {},
   "outputs": [
    {
     "ename": "ImportError",
     "evalue": "DLL load failed while importing cv2: Kan opgegeven module niet vinden.",
     "output_type": "error",
     "traceback": [
      "\u001b[1;31m---------------------------------------------------------------------------\u001b[0m",
      "\u001b[1;31mImportError\u001b[0m                               Traceback (most recent call last)",
      "Input \u001b[1;32mIn [1]\u001b[0m, in \u001b[0;36m<cell line: 7>\u001b[1;34m()\u001b[0m\n\u001b[0;32m      4\u001b[0m \u001b[38;5;28;01mimport\u001b[39;00m \u001b[38;5;21;01mmatplotlib\u001b[39;00m\u001b[38;5;21;01m.\u001b[39;00m\u001b[38;5;21;01mpyplot\u001b[39;00m \u001b[38;5;28;01mas\u001b[39;00m \u001b[38;5;21;01mplt\u001b[39;00m\n\u001b[0;32m      5\u001b[0m \u001b[38;5;28;01mimport\u001b[39;00m \u001b[38;5;21;01mrandom\u001b[39;00m\n\u001b[1;32m----> 7\u001b[0m \u001b[38;5;28;01mimport\u001b[39;00m \u001b[38;5;21;01mcv2\u001b[39;00m \u001b[38;5;66;03m# you are allowed to use functions from cv2\u001b[39;00m\n\u001b[0;32m      8\u001b[0m \u001b[38;5;28;01mimport\u001b[39;00m \u001b[38;5;21;01mglob\u001b[39;00m\n\u001b[0;32m     10\u001b[0m \u001b[38;5;66;03m# import the simualtion environment\u001b[39;00m\n",
      "File \u001b[1;32m~\\anaconda3\\lib\\site-packages\\cv2\\__init__.py:5\u001b[0m, in \u001b[0;36m<module>\u001b[1;34m\u001b[0m\n\u001b[0;32m      2\u001b[0m \u001b[38;5;28;01mimport\u001b[39;00m \u001b[38;5;21;01mos\u001b[39;00m\n\u001b[0;32m      3\u001b[0m \u001b[38;5;28;01mimport\u001b[39;00m \u001b[38;5;21;01msys\u001b[39;00m\n\u001b[1;32m----> 5\u001b[0m \u001b[38;5;28;01mfrom\u001b[39;00m \u001b[38;5;21;01m.\u001b[39;00m\u001b[38;5;21;01mcv2\u001b[39;00m \u001b[38;5;28;01mimport\u001b[39;00m \u001b[38;5;241m*\u001b[39m\n\u001b[0;32m      6\u001b[0m \u001b[38;5;28;01mfrom\u001b[39;00m \u001b[38;5;21;01m.\u001b[39;00m\u001b[38;5;21;01mdata\u001b[39;00m \u001b[38;5;28;01mimport\u001b[39;00m \u001b[38;5;241m*\u001b[39m\n\u001b[0;32m      8\u001b[0m \u001b[38;5;66;03m# wildcard import above does not import \"private\" variables like __version__\u001b[39;00m\n\u001b[0;32m      9\u001b[0m \u001b[38;5;66;03m# this makes them available\u001b[39;00m\n",
      "\u001b[1;31mImportError\u001b[0m: DLL load failed while importing cv2: Kan opgegeven module niet vinden."
     ]
    }
   ],
   "source": [
    "import sklearn\n",
    "import pickle\n",
    "import numpy as np\n",
    "import matplotlib.pyplot as plt\n",
    "import random\n",
    "\n",
    "import cv2 # you are allowed to use functions from cv2\n",
    "import glob\n",
    "\n",
    "# import the simualtion environment\n",
    "import car_racing_ro47002 as cr\n",
    "\n",
    "random.seed(2)"
   ]
  },
  {
   "cell_type": "markdown",
   "id": "d1127d2d",
   "metadata": {},
   "source": [
    "First, we explore the available planets. The code below generates an image from the 3 planets. You do not need to understand how this code works, but it should help you understand the context of what we are doing.\n",
    "Note that the images also include your robot car, and the road ahead."
   ]
  },
  {
   "cell_type": "code",
   "execution_count": 2,
   "id": "d2a595ae",
   "metadata": {},
   "outputs": [
    {
     "data": {
      "application/vnd.jupyter.widget-view+json": {
       "model_id": "05183b1236e74bf388af2a6c0edcce94",
       "version_major": 2,
       "version_minor": 0
      },
      "text/plain": [
       "interactive(children=(IntSlider(value=1, description='planet_id', max=2), Output()), _dom_classes=('widget-int…"
      ]
     },
     "metadata": {},
     "output_type": "display_data"
    }
   ],
   "source": [
    "import ipywidgets\n",
    "from IPython.display import display\n",
    "\n",
    "# Show screenshot of a sampled environment\n",
    "def plot_planet_example(planet_id):\n",
    "    planet = cr.PLANETS[planet_id]\n",
    "    env = cr.CarRacing(planet)\n",
    "    env.seed(10)\n",
    "    env.reset()\n",
    "    plt.imshow(env.render(mode='rgb_array'))\n",
    "    plt.title(f'Planet {planet_id}')\n",
    "    env.close()\n",
    "\n",
    "ipywidgets.interactive(plot_planet_example, planet_id=(0,2))"
   ]
  },
  {
   "cell_type": "markdown",
   "id": "7ed13a94",
   "metadata": {},
   "source": [
    "## Loading pre-recorded human demonstrations\n",
    "\n",
    "You are provided several pre-recorded demonstrations of a human *manually controlling* the robot car on several tracks on several planets.\n",
    "**You can use this data to train a classifier that you can use to implement one or more better policies, which should (ideally) perform similar to how a human would control the robot car.**\n",
    "\n",
    "Each provided demonstration ...\n",
    "* ... contains a sequence of 1000 (observation, action) pairs ...\n",
    "* ... recorded at a specic planet and track, ...\n",
    "* ... for convenience, also contains (1000 dimensional) arrays containing the fixed planet's and track's id of these input/output pair.\n",
    "\n",
    "A demonstration is stored as a python pickle file.\n",
    "The code below shows how to load the saved demonstrations, and to do some simple pre-processing."
   ]
  },
  {
   "cell_type": "code",
   "execution_count": 5,
   "id": "e11bb94b",
   "metadata": {
    "scrolled": true
   },
   "outputs": [
    {
     "name": "stdout",
     "output_type": "stream",
     "text": [
      "Found 15 demonstrations\n",
      "Loaded 1000 samples from demonstrations\\demo-0-0-20211012_155840.pickle ...\n",
      "Loaded 1000 samples from demonstrations\\demo-0-1-20211012_160607.pickle ...\n",
      "Loaded 1000 samples from demonstrations\\demo-0-2-20211012_161107.pickle ...\n",
      "Loaded 1000 samples from demonstrations\\demo-0-3-20211012_161203.pickle ...\n",
      "Loaded 1000 samples from demonstrations\\demo-0-4-20211012_161237.pickle ...\n",
      "Loaded 1000 samples from demonstrations\\demo-0-5-20211012_161457.pickle ...\n",
      "Loaded 1000 samples from demonstrations\\demo-0-6-20211012_161843.pickle ...\n",
      "Loaded 1000 samples from demonstrations\\demo-0-7-20211012_161923.pickle ...\n",
      "Loaded 1000 samples from demonstrations\\demo-0-8-20211012_162117.pickle ...\n",
      "Loaded 1000 samples from demonstrations\\demo-0-9-20211012_162157.pickle ...\n",
      "Loaded 1000 samples from demonstrations\\demo-1-10-20211012_170226.pickle ...\n",
      "Loaded 1000 samples from demonstrations\\demo-1-11-20211012_171117.pickle ...\n",
      "Loaded 1000 samples from demonstrations\\demo-2-12-20211012_171400.pickle ...\n",
      "Loaded 1000 samples from demonstrations\\demo-2-13-20211012_171617.pickle ...\n",
      "Loaded 1000 samples from demonstrations\\demostud-0-0-20211016_131128.pickle ...\n",
      "[0 1 2 3 4]\n"
     ]
    }
   ],
   "source": [
    "# Look for all the demonstration pickle files in the demonstrations/ directory.\n",
    "#  The originally provided demo files are called: demo-[planet_id]-[track_id]-[datetime].pickle\n",
    "#  Any demo files you record yourself are called: demostud-[planet_id]-[track_id]-[datetime].pickle\n",
    "\n",
    "# CHANGE THIS IF NEEDED: select the pickle file pattern to match ...\n",
    "\n",
    "# DEMO_FILEPATTERN = 'demo-*-*.pickle'      # only use ORIGINALLY provided demo files\n",
    "# DEMO_FILEPATTERN = 'demostud-*-*.pickle'  # only use YOUR own collected demo files\n",
    "DEMO_FILEPATTERN = 'demo*-*.pickle'       # use ALL available demo files\n",
    "\n",
    "# find the relevant filenames\n",
    "filenames = glob.glob(f'demonstrations/{DEMO_FILEPATTERN}')\n",
    "filenames.sort() # ensure the order is well-defined\n",
    "print(f'Found {len(filenames)} demonstrations')\n",
    "\n",
    "# in a loop, load the found pickle files\n",
    "demonstrations = []\n",
    "for filename in filenames:\n",
    "    with open(filename, 'rb') as fd:\n",
    "        demonstration = pickle.load(fd)\n",
    "        \n",
    "        actions = demonstration['actions']\n",
    "        print(f'Loaded {actions.shape[0]} samples from {filename} ...')\n",
    "        \n",
    "        demonstrations.append(demonstration)\n",
    "        \n",
    "print(np.unique(actions))"
   ]
  },
  {
   "cell_type": "code",
   "execution_count": 6,
   "id": "388fd5e8",
   "metadata": {},
   "outputs": [],
   "source": [
    "# we can combine all the observations, actions, planet and track ids\n",
    "observations = np.concatenate([d['observations'] for d in demonstrations])\n",
    "actions = np.concatenate([d['actions'] for d in demonstrations])\n",
    "planet_ids = np.concatenate([d['planets'] for d in demonstrations])\n",
    "track_ids = np.concatenate([d['tracks'] for d in demonstrations])\n",
    "\n",
    "# pre-processing: subsample and only keep every n-th sample for efficiency\n",
    "# this can speed up training\n",
    "\n",
    "#Extracting data from Earth\n",
    "earth_observations = observations[:10000]\n",
    "earth_actions = actions[:10000]\n",
    "\n",
    "# plt.imshow(observations[60])\n",
    "# ss = 10\n",
    "# observations = observations[::ss]\n",
    "# actions = actions[::ss]\n",
    "# planet_ids = planet_ids[::ss]\n",
    "# track_ids = track_ids[::ss]\n",
    "\n"
   ]
  },
  {
   "cell_type": "markdown",
   "id": "bb5c823a",
   "metadata": {},
   "source": [
    "## Understanding the data\n",
    "\n",
    "We here take a closer look at format of the demonstration data. The observations (input) are RGB images. The actions (target class labels) are integers."
   ]
  },
  {
   "cell_type": "code",
   "execution_count": 7,
   "id": "656bccb6",
   "metadata": {},
   "outputs": [
    {
     "name": "stdout",
     "output_type": "stream",
     "text": [
      "The data consists of 15000 (observation, action) pairs:\n",
      "- observations : a (15000, 96, 96, 3) numpy int8 array, i-th entry contains RGB image of sample i\n",
      "- actions      : a (15000,) numpy int array, i-th entry contains action (class) label of sample i\n",
      "- planet_ids   : a (15000,) numpy int array, i-th entry contains the planet_id of sample i\n",
      "- track_ids    : a (15000,) numpy int array, i-th entry contains the track_id of sample i\n"
     ]
    }
   ],
   "source": [
    "# count the total number of observations\n",
    "N = observations.shape[0]\n",
    "\n",
    "print(f'The data consists of {N} (observation, action) pairs:')\n",
    "print(f'- observations : a {observations.shape} numpy int8 array, i-th entry contains RGB image of sample i')\n",
    "print(f'- actions      : a {actions.shape} numpy int array, i-th entry contains action (class) label of sample i')\n",
    "print(f'- planet_ids   : a {planet_ids.shape} numpy int array, i-th entry contains the planet_id of sample i')\n",
    "print(f'- track_ids    : a {track_ids.shape} numpy int array, i-th entry contains the track_id of sample i')"
   ]
  },
  {
   "cell_type": "markdown",
   "id": "f121026e",
   "metadata": {},
   "source": [
    "We can inspect inspect a single sample in the recorded data:"
   ]
  },
  {
   "cell_type": "code",
   "execution_count": 8,
   "id": "db3a2b2e",
   "metadata": {
    "scrolled": false
   },
   "outputs": [
    {
     "name": "stdout",
     "output_type": "stream",
     "text": [
      "Action of sample 1:                     1\n",
      "Planet id where sample 1 was recorded:  0\n",
      "Track id where sample 1 was recorded:   0\n"
     ]
    },
    {
     "data": {
      "image/png": "[encoded data removed]",
      "text/plain": [
       "<Figure size 432x288 with 1 Axes>"
      ]
     },
     "metadata": {
      "needs_background": "light"
     },
     "output_type": "display_data"
    }
   ],
   "source": [
    "idx = 1\n",
    "# sample index, should be in range [0, N-1]\n",
    "\n",
    "print(f'Action of sample {idx}:                    ', actions[idx])\n",
    "print(f'Planet id where sample {idx} was recorded: ', planet_ids[idx])\n",
    "print(f'Track id where sample {idx} was recorded:  ', track_ids[idx])\n",
    "\n",
    "plt.imshow(observations[idx])\n",
    "plt.title(f'Observation of sample {idx}');"
   ]
  },
  {
   "cell_type": "markdown",
   "id": "eff18b10",
   "metadata": {},
   "source": [
    "Note that the observation is just a low-resolution image of the simulated environment.\n",
    "\n",
    "An action (label) is simply an integer. The five possible action values are:"
   ]
  },
  {
   "cell_type": "code",
   "execution_count": 9,
   "id": "3021679b",
   "metadata": {},
   "outputs": [],
   "source": [
    "ACTION_NOOP = 0  # NO-OPeration, i.e. do not steer, accelerate or brake\n",
    "ACTION_ACCEL = 1 # Accelerate\n",
    "ACTION_LEFT = 2  # Steer left\n",
    "ACTION_RIGHT = 3 # Steer right\n",
    "ACTION_BRAKE = 4 # Brake, deaccelerate"
   ]
  },
  {
   "cell_type": "markdown",
   "id": "82908e5a",
   "metadata": {},
   "source": [
    "You can use the demonstration data to train and validate your machine learning methods.\n",
    "Of course, you would first need to define some feature extraction procedure(s) to convert the observations into some suitable feature vectors for your machine learning techniques."
   ]
  },
  {
   "cell_type": "markdown",
   "id": "a9eb2415",
   "metadata": {},
   "source": [
    "## Testing your model in  the simulator\n",
    "\n",
    "\n",
    "At some point, *after you have trained and evaluated your classifier*, you might want to check how well your classification method can actually control the robot car. For this, you will need to wrap your trained classifier into a policy function that the simulator can use.\n",
    "\n",
    "This section will go over the details of\n",
    "* how to start the simulator;\n",
    "* how to implement a policy $f$;\n",
    "* how to analyse the rewards.\n",
    "\n",
    "\n",
    "### Running a simulation\n",
    "\n",
    "The function `run_simulation` below will setup a simulation of your robot on a given planet (`planet_id`) and track (`track_id`), and will use the policy `f` you provide to control the robot, for a maximum of `iterations` simulation steps. The simulation function can also show you the simulation in a popup-window (set `render=True`), or record all the (observation, actions) pairs (`record_data=True`).\n",
    "\n",
    "The function signature of run_simulation is:\n",
    "```\n",
    "rewards = run_simulation(f, iterations=500, planet_id=0, track_id=0, verbose=False, render=False, record_data=False, delay=0.0)\n",
    "    Run robot car simulation\n",
    "    Input arguments:\n",
    "    - f             # [function] the robot's policy function\n",
    "    - record_data   # [True/False] if true, return all (observation, action) pairs from the simulation \n",
    "    - planet_id     # [int] select the target planet (0=Earth, 1=Mars, 2=Saturn, 3=Neptune)\n",
    "    - track_id      # [int] select the target track on that planet (0, 1, 2, etc.)\n",
    "    - iterations    # [int] the maximum number of iterations N to run the simulation\n",
    "    - render        # [True/False] show the scene in a popup window (can be a bit slower)\n",
    "    - delay         # [float] a time delay that can be added to make the simulation run a bit slower\n",
    "    \n",
    "    Returns:\n",
    "    - rewards       # [numpy array of floats] all N rewards accumulated during the simulation\n",
    "    - observations  # [numpy array N x H x W x 3] N observations, each observation being a WxH 3-channel image\n",
    "    - actions       # [numpy array of ints] all N actions outputted by the given policy f\n",
    "    \n",
    "    Note: `observations` and `actions` are only returned if record_data=True\n",
    "```\n"
   ]
  },
  {
   "cell_type": "code",
   "execution_count": 10,
   "id": "23f56f40",
   "metadata": {},
   "outputs": [],
   "source": [
    "# user key input handler\n",
    "from pyglet.window import key\n",
    "import time\n",
    "\n",
    "# keep track if which keys have been pressed in the popup window\n",
    "# (will be used later for the human driver)\n",
    "KEY_PRESSED = {key.LEFT: False, key.RIGHT: False, key.UP: False, key.DOWN: False}\n",
    "\n",
    "def key_press(k, mod):\n",
    "    global STOP_SIMULATION, KEY_PRESSED\n",
    "    if k==key.ESCAPE: STOP_SIMULATION = True # set 'quit' flag if ESCAPE key is pressed\n",
    "    KEY_PRESSED[k] = True\n",
    "\n",
    "def key_release(k, mod):\n",
    "    global KEY_PRESSED\n",
    "    KEY_PRESSED[k] = False\n",
    "\n",
    "# define the set of all actions    \n",
    "ACTIONS = [0, 1, 2, 3, 4]\n",
    "ACTION_NAMES = ['noop', 'accel', 'left', 'right', 'brake']\n",
    "NUM_ACTIONS = 5 # number of distinct actions\n",
    "\n",
    "# A lookup table to convert the action class to an actual control input for the simulator (steer, accel, brake)\n",
    "ACTIONS_TO_CONTROL_INPUT = np.array([\n",
    "    [ 0,  0,  0   ], # 0 = do nothing\n",
    "    [ 0,  1,  0   ], # 1 = accelerate\n",
    "    [-1,  0,  0   ], # 2 = steer left\n",
    "    [ 1,  0,  0   ], # 3 = steer right\n",
    "    [ 0,  0,  0.25], # 4 = brake\n",
    "])\n",
    "\n",
    "def run_simulation(f, iterations=500, planet_id=0, track_id=0, verbose=False, render=False, record_data=False, delay=0.0):\n",
    "    \"\"\" Run robot car simulation\n",
    "    Input arguments:\n",
    "    - f             # [function] the robot's policy function\n",
    "    - record_data   # [True/False] if true, return all (observation, action) pairs from the simulation\n",
    "    - planet_id     # [int] select the target planet (0=Earth, 1=Mars, 2=Saturn, 3=Neptune)\n",
    "    - track_id      # [int] select the target track on that planet (0, 1, 2, etc.)\n",
    "    - iterations    # [int] the maximum number of iterations N to run the simulation\n",
    "    - render        # [True/False] show the scene in a popup window (can be a bit slower)\n",
    "    - delay         # [float] a time delay that can be added to make the simulation run a bit slower\n",
    "    \n",
    "    Returns:\n",
    "    - rewards       # [numpy array of floats] all N rewards accumulated during the simulation\n",
    "    - observations  # [numpy array N x H x W x 3] N observations, each observation being a WxH 3-channel image\n",
    "    - actions       # [numpy array of ints] all N actions outputted by the given policy f\n",
    "    \n",
    "    Note: `observations` and `actions` are only returned if record_data=True\n",
    "    \"\"\"\n",
    "    \n",
    "    print(f'Starting simulation for {iterations} iterations.')\n",
    "    print('*** Press ESC key in popup window to stop the simulation! ***')\n",
    "    print()\n",
    "\n",
    "    # create a simulation environment on the given planet\n",
    "    planet = cr.PLANETS[planet_id]\n",
    "    env = cr.CarRacing(planet)\n",
    "    env.seed(track_id+planet_id*1455312) # set environment track generation seed based on planet_id and track_id\n",
    "\n",
    "    rewards = [] # will store the accumulated rewards\n",
    "    observations = [] # will store the accumulated observations (only if record_data==True)\n",
    "    actions = [] # will store the accumulated actions outputted by policy f (only if record_data==True)\n",
    "    \n",
    "    # reset KEY_PRESSED state at start of simulation\n",
    "    global KEY_PRESSED\n",
    "    KEY_PRESSED = {key.LEFT: False, key.RIGHT: False, key.UP: False, key.DOWN: False}\n",
    "    \n",
    "    # the STOP_SIMULATION flag will be set to True if user wants to interrupt the simulation\n",
    "    global STOP_SIMULATION\n",
    "    STOP_SIMULATION = False\n",
    "    completed_iterations = 0\n",
    "    \n",
    "    try:\n",
    "        # reset the simulation, and get the initial observation (robot \"sensor measurement\")\n",
    "        observation = env.reset()\n",
    "        \n",
    "        # ensure we can listen to user input in the popup window (e.g. to quit when pressing ESCAPE)\n",
    "        env.viewer.window.on_key_press = key_press\n",
    "        env.viewer.window.on_key_release = key_release\n",
    "        \n",
    "        # main simulation loop\n",
    "        for itr in range(iterations):\n",
    "            time.sleep(delay)\n",
    "            if STOP_SIMULATION: break\n",
    "                \n",
    "            # ** APPLYING YOUR POLICY **\n",
    "            # execute the given policy on the observation to determine the robot's action\n",
    "            action = f(observation)\n",
    "            \n",
    "            # sanity check: is the policy implemented correctly?\n",
    "            assert (isinstance(action, (int, np.integer))) # returned action should be a builtin or numpy integer\n",
    "            assert (action in ACTIONS) # action should be an integer 0, 1, 2, 3 or 4\n",
    "\n",
    "            # hard coded that for the first few iterations, the robot will always accelerate,\n",
    "            #   to avoid a poor policy from not moving the robot at all\n",
    "            if itr < 4: action = 1 # action 1 is accelerate\n",
    "            \n",
    "            if verbose:\n",
    "                print(f'iteration {itr}: action = {ACTION_NAMES[action]}')\n",
    "\n",
    "            if record_data:\n",
    "                # only store all the observation and action pairs during the simulation\n",
    "                #   if the record_data argument is set to True\n",
    "                observations.append(observation)\n",
    "                actions.append(action)\n",
    "            \n",
    "            # ** EXECUTE ACTION ON ROBOT & GET OBSERVATION FOR NEXT TIME STEP **\n",
    "            ctrl_input = ACTIONS_TO_CONTROL_INPUT[action] \n",
    "\n",
    "            # execute simulation step with the given control input\n",
    "            observation, reward, environment_done, info = env.step(ctrl_input)\n",
    "            completed_iterations += 1\n",
    "            \n",
    "            if verbose:\n",
    "                print(f'iteration {itr}: reward = {reward}')\n",
    "\n",
    "            if render:\n",
    "                # update pop-window visualization\n",
    "                env.render()\n",
    "\n",
    "            # collect all rewards in a list\n",
    "            rewards.append(reward)\n",
    "    finally:\n",
    "        # make sure we always close the pop-up window,\n",
    "        # even if some exception is thrown during the main loop\n",
    "        env.close()\n",
    "        \n",
    "    rewards = np.array(rewards)\n",
    "    total_reward = np.sum(rewards)\n",
    "    \n",
    "    print(f'total reward after {completed_iterations} iterations: {total_reward}')\n",
    "    print(f'average reward: {total_reward/completed_iterations}')\n",
    "    \n",
    "    if record_data:\n",
    "        return rewards, np.array(observations), np.array(actions, dtype=int)\n",
    "        \n",
    "    # by default, only return the rewards\n",
    "\n",
    "    return rewards"
   ]
  },
  {
   "cell_type": "markdown",
   "id": "239132f0",
   "metadata": {},
   "source": [
    "### Implementing a policy\n",
    "\n",
    "For the simulator, a policy $f(observation) \\rightarrow action$ should be implemented as a plain python function which takes a numpy array as input (the observation) and returns an integer (the action).\n",
    "So generally, a policy implementation would look like this:\n",
    "\n",
    "```python\n",
    "\n",
    "def f(observation):    \n",
    "    # Input: observation, a H x W x 3 numpy array containing an RGB image of the surroundings\n",
    "    # Output: action,     an integer representing the action (0 = NOOP, ... 5 = Brake)\n",
    "    # N.B.: actions is just an int, NOT a numpy array\n",
    "    \n",
    "    # YOUR CODE\n",
    "    #   convert observation to feature vector\n",
    "    #   predict action class given the feature vector using some ML technique\n",
    "    \n",
    "    return action\n",
    "```\n",
    "*Of course, don't name you policy just `f`, but give it some more descriptive name!*\n",
    "\n",
    "To illustrate, here is a dummy policy which just picks a random actions (without actually looking at the observation)."
   ]
  },
  {
   "cell_type": "code",
   "execution_count": 11,
   "id": "91446514",
   "metadata": {},
   "outputs": [],
   "source": [
    "# a dummy policy\n",
    "def f_dummy(observation):\n",
    "    \"\"\" Dummy policy function, which just returns random action. \"\"\"\n",
    "    \n",
    "    # in this dummy policy, we ignore the observation and just select a random action\n",
    "    action = np.random.randint(0, NUM_ACTIONS)\n",
    "    \n",
    "    print(f'Received observation: {observation.shape} numpy array of type {observation.dtype}, returning action {action}')\n",
    "    return action"
   ]
  },
  {
   "cell_type": "markdown",
   "id": "4667f5a1",
   "metadata": {},
   "source": [
    "We can confirm that the policy returns a valid action label:"
   ]
  },
  {
   "cell_type": "code",
   "execution_count": 12,
   "id": "ad47b72f",
   "metadata": {},
   "outputs": [
    {
     "name": "stdout",
     "output_type": "stream",
     "text": [
      "Received observation: (96, 96, 3) numpy array of type uint8, returning action 1\n"
     ]
    }
   ],
   "source": [
    "action = f_dummy(observations[0])\n",
    "\n",
    "# returned action should be a builtin int or a numpy integer (NOT a numpy array) in the range [0, 4]\n",
    "assert (isinstance(action, (int, np.integer)))\n",
    "assert (action in ACTIONS) # ACTIONS is the set of possible action labels, [0,1,2,3,4]"
   ]
  },
  {
   "cell_type": "markdown",
   "id": "92ab36b3",
   "metadata": {},
   "source": [
    "### Reward\n",
    "\n",
    "To quantify how well a policy is working, the simulator will return the *rewards* that the robot car collected at each simulation step. The rewards determine how well you are doing in a race, and are based on the number of  segments of the track that the robot racer passes:\n",
    "\n",
    "* Everytime a new segments of the track is touched by your robot car, your robot receives a positive reward. You can see this in the visualization when a road segments's color changes to a lighter gray.\n",
    "* The robot car also get a tiny *negative* reward in each time step, as a penalty for spending time.\n",
    "* When the robot car goes off the track, it will not touch any new track segments and thus only collects negative rewards, but also the friction changes which makes the robot car more difficult to control.\n",
    "\n",
    "Overall, the goal is to cover as much of the race track as possible in the given number of simulation iterations. So, your robot car should go as fast as possible while staying on the track!"
   ]
  },
  {
   "cell_type": "markdown",
   "id": "f908609e",
   "metadata": {},
   "source": [
    "### Illustration of running the simulator with the dummy policy\n",
    "\n",
    "Let's try to run the simulation with the dummy policy, and render the output in the popup-window for the default number of iterations."
   ]
  },
  {
   "cell_type": "code",
   "execution_count": 13,
   "id": "20d825fb",
   "metadata": {
    "scrolled": true
   },
   "outputs": [],
   "source": [
    "# # running the simulation with the dummy policy\n",
    "# rs = run_simulation(f_dummy, render=1, planet_id=0, track_id=0)"
   ]
  },
  {
   "cell_type": "markdown",
   "id": "0918c2c8",
   "metadata": {},
   "source": [
    "Clearly, this policy doesn't do anything particularly useful, and should make the robot car just slowly move forward. This policy will touch only few road segments, and therefore collect little positive reward.\n",
    "Let's visulize the rewards that the robot collected during the simulation.\n",
    "\n",
    "The first plot below shows when new parts of the track are reached and a large reward is collected. The second plot shows the total/cumulative reward."
   ]
  },
  {
   "cell_type": "code",
   "execution_count": 14,
   "id": "760569cd",
   "metadata": {
    "scrolled": true
   },
   "outputs": [],
   "source": [
    "# plt.figure(figsize=(10,4)) # create a wide figure (size 10) which is not so tall (size 4)\n",
    "# plt.subplot(1,2,1) # create subplot of 1 row, 2 columns, enable plotting in first cell\n",
    "# plt.plot(rs)\n",
    "# plt.xlabel('iteration')\n",
    "# plt.ylabel('reward')\n",
    "# plt.title('Reward per iteration')\n",
    "# plt.grid()\n",
    "\n",
    "# plt.subplot(1,2,2) # create subplot of 1 row, 2 columns, enable plotting in first cell\n",
    "# plt.plot(np.cumsum(rs)) # Cumulative sum of rewards\n",
    "# plt.xlabel('iteration')\n",
    "# plt.ylabel('total reward')\n",
    "# plt.title('Cumulative reward')\n",
    "# plt.grid()\n",
    "\n",
    "\n",
    "# print('Average reward:', np.mean(rs))"
   ]
  },
  {
   "cell_type": "markdown",
   "id": "c4e125f0",
   "metadata": {},
   "source": [
    "For comparing and evaluating classifiers, measure the performance of the classifiers themselves, i.e., the macro-F1 score.\n",
    "\n",
    "Still, the simulation and rewards can help you assess in what situations your robot AI is performing well, and when it is failing."
   ]
  },
  {
   "cell_type": "markdown",
   "id": "474c9f70",
   "metadata": {},
   "source": [
    "# Collecting new demonstrations\n",
    "\n",
    "At some point, you might want to collect more human demonstration data to make your method even beter.\n",
    "You can do this by:\n",
    "\n",
    "- manually controlling the robot car in the simulation yourself to generate new demonstrations\n",
    "- recording the resulting (observation, action) pairs during these demonstrations\n",
    "- saving the good demonstrations to disk to increase your example dataset\n",
    "\n",
    "The code below demonstrates how to do this. The idea is simple: just use the regular `run_simulation()` function, but use a special `f_human()` policy which simply returns the action based on the keyboard input!"
   ]
  },
  {
   "cell_type": "code",
   "execution_count": 15,
   "id": "b00df200",
   "metadata": {},
   "outputs": [],
   "source": [
    "# a human driver\n",
    "def f_human(observation):\n",
    "    # Get the action obtained by the key_press/key_release callbacks from the popup window.\n",
    "    # Note that the human driver (you!) will of course see the environment image in the popup window,\n",
    "    # and ignore the 'observation' input of this function.\n",
    "    # This 'human policy' will therefore return your 'action' response to the visual input by checking\n",
    "    # which keyboard arrows you pressed.\n",
    "    \n",
    "    global KEY_PRESSED\n",
    "    \n",
    "    action = ACTION_NOOP\n",
    "    if KEY_PRESSED[key.LEFT]: action = ACTION_LEFT\n",
    "    elif KEY_PRESSED[key.RIGHT]: action = ACTION_RIGHT\n",
    "    elif KEY_PRESSED[key.UP]: action = ACTION_ACCEL\n",
    "    elif KEY_PRESSED[key.DOWN]: action = ACTION_BRAKE\n",
    "    \n",
    "    return action"
   ]
  },
  {
   "cell_type": "markdown",
   "id": "3f5f9349",
   "metadata": {},
   "source": [
    "When we use this policy, ensure that the simulator stores and return all the (observation, action) pairs by setting the `record_data` argument of run_simulation to `True`.\n",
    "You can adjust the `planet_id` and `track_id` to get human driving responses on a variety of tracks in your training planet environments."
   ]
  },
  {
   "cell_type": "code",
   "execution_count": 16,
   "id": "cc7cf477",
   "metadata": {},
   "outputs": [],
   "source": [
    "# planet_id=0 # <-- CHANGE THIS to select the planet; can be 0, 1, 2\n",
    "# track_id=0  # <-- CHANGE THIS to select the track; can be any positive integer\n",
    "\n",
    "# rs, rec_obs, rec_actions = run_simulation(\n",
    "#     f_human,               # by using the 'human' policy, YOU determine the robot's actions based on what you see\n",
    "#     record_data=True,      # record and return all (observation, action) pairs from the simulation \n",
    "#     planet_id=planet_id,   # select the target planet\n",
    "#     track_id=track_id,     # select the target track on that planet (0, 1, 2, etc.)\n",
    "#     iterations=1000,       # maximum number of iterations to run the simulation\n",
    "#     render=True,           # when controling the car manually, it makes sense to render the scene\n",
    "#     delay=0.01             # adding a small delay will help you control the robot car\n",
    "# )\n",
    "# # Note: with delay=0.01 the simulation runs a bit slower, which makes it easier to give demonstrations"
   ]
  },
  {
   "cell_type": "markdown",
   "id": "b759d7a7",
   "metadata": {},
   "source": [
    "Explore the just collected samples in your latest recoding using an interactive slider"
   ]
  },
  {
   "cell_type": "code",
   "execution_count": 17,
   "id": "8083ec27",
   "metadata": {},
   "outputs": [],
   "source": [
    "# def plot_sample(idx, observations, actions):\n",
    "#     observation = observations[idx]\n",
    "#     action = actions[idx]\n",
    "#     plt.clf()\n",
    "#     plt.imshow(observation)\n",
    "#     plt.title(f'{idx}: {action}');\n",
    "    \n",
    "# ipywidgets.interactive(lambda idx: plot_sample(idx, rec_obs, rec_actions), idx=(0,rec_obs.shape[0]-1))"
   ]
  },
  {
   "cell_type": "markdown",
   "id": "0c8cf8de",
   "metadata": {},
   "source": [
    "If you are unhappy with the the demonstration you gave, you can just execute the `run_simulation()` cell above again, until you are satisfied.\n",
    "\n",
    "To save the demonstration to disk, execute the cell below after setting `SAVE_DEMO` to True.\n",
    "\n",
    "**After you have saved the demonstration, don't forget to aftewards IMMEDIATELY set `SAVE_DEMO` back to False to avoid accidentally saving new demonstrations every time you rerun the notebook!!!**\n",
    "\n",
    "Note that the pickle filenames of your recordings will start with `demostud-`, while the originally provided demonstrations start with `demo-`. This makes it easy to load only the original, your, or both types of recordings."
   ]
  },
  {
   "cell_type": "code",
   "execution_count": 18,
   "id": "ce4e67b4",
   "metadata": {},
   "outputs": [],
   "source": [
    "SAVE_DEMO = False # <-- CHANGE THIS to 'True' to SAVE the last recording to disk!\n",
    "\n",
    "if SAVE_DEMO: \n",
    "    rec_N = rec_obs.shape[0]\n",
    "\n",
    "    demonstration = {\n",
    "        'observations': rec_obs,\n",
    "        'actions': rec_actions,\n",
    "        'planets': planet_id * np.ones(rec_N, dtype=int),\n",
    "        'tracks': track_id * np.ones(rec_N, dtype=int),\n",
    "    }\n",
    "    \n",
    "    # include date+time to filename in YYYYMMDD_HHMMSS format\n",
    "    import datetime\n",
    "    now = datetime.datetime.now()\n",
    "    dt_str = now.strftime('%Y%m%d_%H%M%S')\n",
    "\n",
    "    # Save to disk\n",
    "    save_filename = f'demonstrations/demostud-{planet_id}-{track_id}-{dt_str}.pickle'\n",
    "    print(f'Saving demonstation of planet {planet_id}, track {track_id} to {save_filename} ...')\n",
    "    with open(save_filename, 'wb') as fd:\n",
    "        pickle.dump(demonstration, fd)"
   ]
  },
  {
   "cell_type": "markdown",
   "id": "b67f75fe",
   "metadata": {},
   "source": [
    "Ok, that completes the example code.\n",
    "Now it is your turn! Implement your solution to the final assignment below. For full points, make sure you address *all* the numbered items for each section, either by implementing something in code cells, or by providing text in Markdown cells. You are free to add as many code and markdown cells as required. Be sure to first read through all sections before you start, so you know what should go where. We are *not* using nbgrader for this final assignment.\n",
    "\n",
    "**When you are done, double check the \"Deliverables\" section at the start of this notebook on how to prepare your final submission!**\n",
    "\n",
    "Good luck!\n"
   ]
  },
  {
   "cell_type": "markdown",
   "id": "c1edc05e",
   "metadata": {},
   "source": [
    "### ---\n",
    "\n",
    "# 1. Explore & Inspect the Data (5 points)\n",
    "Add code and markdown cells to address all of the following points:\n",
    "\n",
    "1. Create a visualization that shows three samples from each planet for which you have demonstrations\n",
    "2. Explain in words what you observe: how do the observations from the planets vary?\n",
    "3. Are the samples i.i.d.? What does that imply for splitting your data?\n",
    "4. Is there a class imbalance? If yes, what are procedures to deal with that?\n",
    "5. Do we have a high risk of conflicting labels for observations? What problems can this cause?\n",
    "6. The data was collected from human demonstrations. What are potential issues with this way of collecting data?\n",
    "\n",
    " "
   ]
  },
  {
   "cell_type": "markdown",
   "id": "2ed7ff3c",
   "metadata": {},
   "source": [
    "### Show samples of the three planets\n",
    "\n",
    "Inspecting the training data is very important before starting to build a Machine Learning model. Having a clear overview of the characteristics your data samples enables one to obtain an appropriate trainnig method. This entails knowing the values, shapes, distributions and other properties of the data samples. The data samples for this assignment are colored pixels. Each observation is a 96x96x3 array, namely 3 RGB values per pixel and 96x96 pixels per observation. \n",
    "\n",
    "The code below plots three different track samples on the three different planets. The observations from different planets only vary in the color of the background. In the next cell block, the class distribution is calculated. The class distribution shows a class imbalance, which means that attention should be paid to selecting the training data. In order to train our models sufficiently, the imbalance should be reduced. This is done by filtering the data based on their label: keeping count of the distribution of the class labels resulted in a more evenly distributed training data over the classes.\n",
    "\n",
    "Each sample is the result of a human controller racing through various tracks. The samples are not correlated (i.e. the label of one sample does not influence the label of another sample) and therefore the data is independent. After inspecting the class distributions, it becomes obvious the data samples are not identically distributed over the classes. To make up for this, not only the training data was filtered by class, but also the training data is shuffled before training the classifiers.\n",
    "\n",
    "There is a risk of conflicting certain labels for observations, namely the labels (0) - Do nothing and (1) - Accelerate. If the road is curved left or right, the corresponding action should not easily classifiable. However, on a straight road, both accelerating and doing nothing are good options and might be interchanged by the classifier. \n"
   ]
  },
  {
   "cell_type": "code",
   "execution_count": 19,
   "id": "7ef75732",
   "metadata": {},
   "outputs": [
    {
     "data": {
      "text/plain": [
       "15000"
      ]
     },
     "execution_count": 19,
     "metadata": {},
     "output_type": "execute_result"
    },
    {
     "data": {
      "image/png": "[encoded data removed]",
      "text/plain": [
       "<Figure size 1080x1080 with 3 Axes>"
      ]
     },
     "metadata": {
      "needs_background": "light"
     },
     "output_type": "display_data"
    }
   ],
   "source": [
    "plt.figure(figsize = (15, 15))\n",
    "\n",
    "plt.subplot(1, 3, 1)\n",
    "plt.imshow(observations[200])\n",
    "plt.title('Sample of a racing track on Earth')\n",
    "plt.subplot(1, 3, 2)\n",
    "plt.imshow(observations[1100])\n",
    "plt.title('Sample of a racing track on Mars')\n",
    "plt.subplot(1, 3, 3)\n",
    "plt.imshow(observations[1300])\n",
    "plt.title('Sample of a racing track on Saturn');\n",
    "len(actions)"
   ]
  },
  {
   "cell_type": "code",
   "execution_count": 20,
   "id": "dbed5f04",
   "metadata": {},
   "outputs": [
    {
     "name": "stdout",
     "output_type": "stream",
     "text": [
      "The classed are distributed as: [7014 3179 2932 1815   60]\n"
     ]
    }
   ],
   "source": [
    "class_distribution = np.bincount(actions)\n",
    "print('The classed are distributed as:', class_distribution)"
   ]
  },
  {
   "cell_type": "markdown",
   "id": "dce1a0f4",
   "metadata": {},
   "source": [
    "---\n",
    "\n",
    "# 2. Prepare the Data and Evaluate Features (15 points)\n",
    "\n",
    "In this section you should pre-process the data, e.g., down-sample, and extract features to create your training data matrix \"X\".\n",
    "\n",
    "\n",
    "## 2.1. Clustering observations from planets\n",
    "\n",
    "Before we turn towards the main task of action classification (section 2.2), let us first try a small unsupervised clustering task. Pretend that we only have the observations, but did not record the planet_ids of these observations. The goal is to cluster the observations into k=3 clusters such that 1 cluster (approximately) corresponds to 1 planet. For this task, you can ignore the actions and track_id information.\n",
    "\n",
    "1. Propose a feature extraction method `feat_extract_clust` which can be used to CLUSTER the samples and (approximately) recover the planet_ids. Motivate what you use in your feature extraction method.\n",
    "2. Perform clustering based on the features obtained with `feat_extract_clust`, and compare the results to the true planet_id labels. For this you will need to select a statistical measure to compare cluster labels to planet_ids.\n",
    "3. Explain what measure you use for comparing the features and why.\n",
    "4. Can you recuperate the planet_ids by clustering? Motivate your answer with your results."
   ]
  },
  {
   "cell_type": "markdown",
   "id": "44e0cfcd",
   "metadata": {},
   "source": [
    "### Visualizing the data\n",
    "\n",
    "The observations from different planets show the most variance in background color. In order to cluster the samples, the average color of each sample is calculated. The samples are now only 3-dimensional, which we can visualize by plotting in 3D using the following functions (which we imported from previous assignments). "
   ]
  },
  {
   "cell_type": "code",
   "execution_count": 21,
   "id": "f784a480",
   "metadata": {},
   "outputs": [],
   "source": [
    "from mpl_toolkits.mplot3d import axes3d\n",
    "\n",
    "def make_3d_plot_axes_equal(ax):\n",
    "    \"\"\" Utility function to make axes equally scaled for 3D plots in matplotlib.\n",
    "        Note that for 2D plots we can simply use ax.axes('equal'),\n",
    "        but unfortunately this doesn't work for 3D plots, so we use this utility function.\n",
    "        \n",
    "        Inspired by: https://stackoverflow.com/a/31364297\n",
    "    \"\"\" \n",
    "    \n",
    "    ax_limits = np.array([ax.get_xlim3d(), ax.get_ylim3d(), ax.get_zlim3d()]).T\n",
    "    \n",
    "    m = ax_limits.mean(axis=0)\n",
    "    max_range = (ax_limits - m).max();\n",
    "    \n",
    "    ax.set_xlim(m[0] - max_range, m[0] + max_range)\n",
    "    ax.set_ylim(m[1] - max_range, m[1] + max_range)\n",
    "    ax.set_zlim(m[2] - max_range, m[2] + max_range)\n",
    "\n",
    "def plot_3d_data(X, view_angle1, view_angle2, label_name='dim'):\n",
    "    fig = plt.figure(figsize=(10,6))\n",
    "    ax = fig.add_subplot(111, projection='3d')\n",
    "\n",
    "    ax.view_init(view_angle1, view_angle2)\n",
    "    \n",
    "    ax.scatter(X[:,0], X[:,1], X[:,2], s=5., alpha=0.7)\n",
    "\n",
    "    plt.xlabel(label_name+' 0')\n",
    "    plt.ylabel(label_name+' 1')\n",
    "    ax.zaxis.set_label_text(label_name+' 2') # no plt.zlabel() :-/\n",
    "\n",
    "    # ensure 3D plot has equally scaled axes\n",
    "    make_3d_plot_axes_equal(ax)\n",
    "\n",
    "    plt.show()"
   ]
  },
  {
   "cell_type": "markdown",
   "id": "f814d3de",
   "metadata": {},
   "source": [
    "### Prepare data and plot with ipywidgets\n",
    "In the code cell below we calculated the average color of each instance, and plotted all instances in 3D. In this plot, 3 clusters are very clearly distinguishable."
   ]
  },
  {
   "cell_type": "code",
   "execution_count": 22,
   "id": "8a993907",
   "metadata": {},
   "outputs": [
    {
     "data": {
      "application/vnd.jupyter.widget-view+json": {
       "model_id": "01cbb23ad8cf4db08445be5c15a9566d",
       "version_major": 2,
       "version_minor": 0
      },
      "text/plain": [
       "interactive(children=(IntSlider(value=45, description='view_angle1', max=90), IntSlider(value=180, description…"
      ]
     },
     "metadata": {},
     "output_type": "display_data"
    }
   ],
   "source": [
    "# Prepare data\n",
    "image_avgs = []\n",
    "for i in range(len(observations)):\n",
    "    image_avgs.append(np.average(np.average(observations[i], axis = 1), axis = 0))\n",
    "\n",
    "image_avgs = np.array(image_avgs)\n",
    "\n",
    "# Plot data with simple widgets\n",
    "ipywidgets.interactive(\n",
    "    lambda view_angle1, view_angle2: plot_3d_data(image_avgs, view_angle1, view_angle2, label_name='feature'),\n",
    "    view_angle1=(0, 90),\n",
    "    view_angle2=(0, 360)\n",
    ")"
   ]
  },
  {
   "cell_type": "markdown",
   "id": "9c6369a5",
   "metadata": {},
   "source": [
    "### Use K-Means to find clusters centers\n",
    "In de code cell below we calculated the average color of each instance, and plotted all instances in 3D. In this plot, 3 clusters are very clearly distinguishable. Since our clusters are seperated and do not overlap, it is easy to get a high accuracy using a simple clustering method like KMeans. This clustering algorithm searches for 3 clusters which is does with 100% accuracy since there is no overlap between clusters."
   ]
  },
  {
   "cell_type": "code",
   "execution_count": 23,
   "id": "bdf0e7de",
   "metadata": {},
   "outputs": [
    {
     "name": "stdout",
     "output_type": "stream",
     "text": [
      "[0 0 0 ... 0 0 0]\n",
      "[0 0 0 ... 0 0 0]\n",
      "The accuracy score for this clustering method is:,  73.33333333333333 %\n"
     ]
    },
    {
     "data": {
      "application/vnd.jupyter.widget-view+json": {
       "model_id": "606a419105e24c93aaeb86498bfa1a1a",
       "version_major": 2,
       "version_minor": 0
      },
      "text/plain": [
       "interactive(children=(IntSlider(value=45, description='view_angle1', max=90), IntSlider(value=180, description…"
      ]
     },
     "metadata": {},
     "output_type": "display_data"
    }
   ],
   "source": [
    "from sklearn.cluster import KMeans\n",
    "kmeans = KMeans(n_clusters = 3, random_state=0)\n",
    "y_pred = kmeans.fit_predict(image_avgs)\n",
    "\n",
    "kmeans.cluster_centers_\n",
    "\n",
    "print(planet_ids)\n",
    "print(kmeans.labels_)\n",
    "print(\"The accuracy score for this clustering method is:, \", np.count_nonzero(planet_ids == y_pred)/len(y_pred)*100, \"%\")\n",
    "\n",
    "\n",
    "def plot_data_with_labels(X, y=None, view_angle1=None, view_angle2=None):\n",
    "    fig = plt.figure(figsize=(10,6))\n",
    "    ax = fig.add_subplot(111, projection='3d')\n",
    "    ax.view_init(view_angle1, view_angle2)\n",
    "    ax.scatter(X[:,0], X[:,1], X[:,2], s=5., alpha=0.7, c=y)  \n",
    "    ax.set_xlabel('red')\n",
    "    ax.set_ylabel('green')\n",
    "    ax.set_zlabel('blue')\n",
    "        \n",
    "ipywidgets.interactive(\n",
    "    lambda view_angle1, view_angle2: plot_data_with_labels(image_avgs, y_pred, view_angle1, view_angle2),\n",
    "    view_angle1=(0, 90),\n",
    "    view_angle2=(0, 360)\n",
    ")\n",
    "\n"
   ]
  },
  {
   "cell_type": "markdown",
   "id": "144d5957",
   "metadata": {},
   "source": [
    "## 2.2. Features for action classification\n",
    "\n",
    "Now we turn to feature exration for the main classification task, which you can reuse also in the later sections of this notebook.\n",
    "\n",
    "1. Explain: Will you use the same extractor as in step 1; Why (not)?\n",
    "2. Propose a feature extraction method `feat_extract` which you will use in the subsequent sections to classify *action*, rather than planet_ids.\n",
    "3. Explain: Are there any important hyperparameters in your feature extractor?\n",
    "4. Explain: How will you decide on the values for these hyperparameters? What is the trade-off if this hyperparameter is either (too) low or (too) high?\n",
    "5. Explain: What is the dimensionality of your feature space?\n",
    "6. Apply your `feat_extract` to all observations to create the data that you will use in the subsequent sections."
   ]
  },
  {
   "cell_type": "code",
   "execution_count": 24,
   "id": "8c93ac8e",
   "metadata": {},
   "outputs": [],
   "source": [
    "from sklearn.discriminant_analysis import LinearDiscriminantAnalysis as LDA\n",
    "from skimage.color import rgb2gray\n",
    "from sklearn.preprocessing import StandardScaler\n",
    "from skimage.transform import downscale_local_mean\n",
    "from skimage import filters\n",
    "from sklearn.decomposition import PCA"
   ]
  },
  {
   "cell_type": "markdown",
   "id": "974a1e43",
   "metadata": {},
   "source": [
    "Like mentioned before there is a class inbalance. Therefore a function is written to distribute the data according to desired parameters."
   ]
  },
  {
   "cell_type": "code",
   "execution_count": 25,
   "id": "7bfa856e",
   "metadata": {},
   "outputs": [],
   "source": [
    "## Distribute the action classes for the training class\n",
    "def distribute(X, y, a, b, c, d, e, obs):\n",
    "    observations_distributed = []\n",
    "    actions_distributed = []\n",
    "    action_count = [a, b, c, d, e]\n",
    "    for i in range(len(X)):\n",
    "        if action_count[y[i]] < obs:\n",
    "            action_count[y[i]] += 1\n",
    "            observations_distributed.append(X[i])\n",
    "            actions_distributed.append(y[i])\n",
    "    observations_distributed = np.array(observations_distributed)\n",
    "    actions_distributed = np.array(actions_distributed)\n",
    "    return observations_distributed, actions_distributed\n",
    "\n",
    "earth_observations_distributed, earth_actions_distributed = distribute(earth_observations, earth_actions, 0, 400, 650, 650, 0, 1000)\n"
   ]
  },
  {
   "cell_type": "markdown",
   "id": "139a4c86",
   "metadata": {},
   "source": [
    "The objective is now to classify a certain action based on the shape of the road ahead. The color of the background should not affect the prediction of the class, and is therefore of no interest anymore. A different feature extraction method should be used for action classification. The feature extraction consists of different substeps:\n",
    "\n",
    "- Cutting the image\n",
    "- Grayscaling the image\n",
    "- Applying a Sobel filter\n",
    "\n",
    "First we cut the image to a smaller size, since the model does not need the whole observation to determine an action. The classifier only needs to see a small part of the road ahead in order to estimate wheter a turn is coming. Next, we apply a gray filter over all samples to reduce the dimensionality of the data set by a factor 3: each pixel now only contains 1 value between zero and 1 instead of 3 RGB values. To filter out irrelevant features we applied a Roberts filter, which creates a differential map of the observation which shows the gradient of the observation, i.e. where pixels are varying compared to neighbouring pixels. The observations now only show the boundaries of the track."
   ]
  },
  {
   "cell_type": "code",
   "execution_count": 26,
   "id": "df7e1ef7",
   "metadata": {},
   "outputs": [
    {
     "name": "stdout",
     "output_type": "stream",
     "text": [
      "(2300, 3600)\n"
     ]
    }
   ],
   "source": [
    "def feat_extract(X):\n",
    "    gray = rgb2gray(X)[:,20:80,20:80]\n",
    "    obs_filter = np.zeros(gray.shape)\n",
    "    for i in range(len(X)):\n",
    "        obs_filter[i] = filters.sobel(gray[i])\n",
    "    obs_filter = obs_filter.reshape(obs_filter.shape[0], obs_filter.shape[1]*obs_filter.shape[2]) \n",
    "    return obs_filter\n",
    "\n",
    "def feature_vector(X):\n",
    "    gray = rgb2gray(X)[20:80,20:80]\n",
    "    obs_filter = filters.sobel(gray)\n",
    "    obs_filter = obs_filter.reshape(1, obs_filter.shape[0]*obs_filter.shape[1]) \n",
    "    return obs_filter\n",
    "\n",
    "X_earth_red = feat_extract(earth_observations_distributed)\n",
    "# print(earth_actions.shape)\n",
    "print(X_earth_red.shape)"
   ]
  },
  {
   "cell_type": "markdown",
   "id": "33d131ef",
   "metadata": {},
   "source": [
    "----\n",
    "\n",
    "# 3. Single Planet Action Classification  (35 points)\n",
    "To get started, we will train and test a model that is only suitable for racing on a single planet, i.e., on Earth (planet 0)\n",
    "\n",
    "As a first step split the data into a training, validation, and test set. You can use the provided data, or collect your own.\n",
    "\n",
    "## 3.1. Shortlist Promising Models\n",
    "1. Compare at least 2 models. One of them needs to be a neural network, one of them needs to be not a neural network.\n",
    "2. For each of the models that you are going to compare, explain what are its relative advantages/disadvantages in terms of training time, test time, and number of model parameters compared to the other choices. Also explain how these considerations relate to the target application, and motivate which type of model would be preferred based on these considerations only (so disregarding the actual quality of the models).\n",
    "3. If needed, perform dimensionality reduction before training your selection models. Expain why it is (not) needed.\n",
    "4. Roughly tune those models\n",
    "5. Evaluate the models in terms of performance, bias, variance, etc.\n",
    "6. Please use the macro-F1 score (see sklearn documentation) as your main criterion. Looking at confusion matrices, accuracy etc. might also provide valuable insights. Why is the accuracy score potentially problematic in this setting?\n",
    "7. Pick one algorithm to develop further.\n"
   ]
  },
  {
   "cell_type": "markdown",
   "id": "59e3b403",
   "metadata": {},
   "source": [
    "### Promising Models\n",
    "\n",
    "Three models that were initially tested are:\n",
    "\n",
    "- Random Forest Classifier\n",
    "- Neural Network\n",
    "\n",
    "The Random Forest classifiers is overall well-known for its low computational time and high accuracy in general. A neural network is different from the previous models as it is able to learn and model complex patterns in data samples. Furthermore it has the ability to generalize and make accurate predictions on data sets it has never seen before. "
   ]
  },
  {
   "cell_type": "markdown",
   "id": "a233306c",
   "metadata": {},
   "source": [
    "### Splitting the data in a training, validation and test set\n",
    "In order to evaluate the model performance, a validation and a test set are needed. The validation set is just like a test set, which can be used to evaluate performance without using the test set. The test set should not be touched untill the final evaluation, otherwise one would be using the test set to tweak the hyperparamters, which results in an unrealistic performance on new data."
   ]
  },
  {
   "cell_type": "code",
   "execution_count": 27,
   "id": "6a58da58",
   "metadata": {},
   "outputs": [],
   "source": [
    "from sklearn.model_selection import train_test_split\n",
    "X_train_earth, X_notTrain, y_train_earth, y_notTrain = train_test_split(X_earth_red, earth_actions_distributed, test_size=0.25, random_state=0)\n",
    "X_test_earth, X_val_earth, y_test_earth, y_val_earth = train_test_split(X_notTrain, y_notTrain, test_size=0.5, random_state=0)"
   ]
  },
  {
   "cell_type": "markdown",
   "id": "0f9f6915",
   "metadata": {},
   "source": [
    "### Dimensionality reduction using PCA\n",
    "\n",
    "After feature extraction, the feature space is still quite large. The feature vectors have a length of 3600 features. To reduce the computational load, PCA is applied to reduce the amount of dimensions by selecting and preserving the features which show the most variance. The hyperparameter n_componenets determines how many dimensions are desired in de resulting dataset. If a value between 0 and 1 is given, like 0.95, PCA computes the minimum number of dimension required to preserve 95% of the training set's variance. "
   ]
  },
  {
   "cell_type": "code",
   "execution_count": 28,
   "id": "c8d20f33",
   "metadata": {},
   "outputs": [],
   "source": [
    "pca = PCA(n_components = 0.95)\n",
    "\n",
    "X_train_earth_pca = pca.fit_transform(X_train_earth)\n",
    "X_val_earth_pca = pca.transform(X_val_earth)"
   ]
  },
  {
   "cell_type": "markdown",
   "id": "99672e5b",
   "metadata": {},
   "source": [
    "### Random Forest\n"
   ]
  },
  {
   "cell_type": "code",
   "execution_count": 29,
   "id": "9b72aec6",
   "metadata": {},
   "outputs": [],
   "source": [
    "from sklearn.ensemble import RandomForestClassifier\n",
    "from sklearn.metrics import confusion_matrix\n",
    "from sklearn.metrics import accuracy_score\n",
    "from sklearn.model_selection import cross_val_predict\n",
    "from sklearn.metrics import precision_score, recall_score\n",
    "from sklearn.metrics import f1_score\n",
    "from sklearn.model_selection import train_test_split\n",
    "from sklearn.preprocessing import StandardScaler\n",
    "from sklearn.svm import SVC\n",
    "\n",
    "def eval_classifier(clf, X, y):\n",
    "    y_pred = rf_clf.predict(X)\n",
    "    accuracy = sklearn.metrics.accuracy_score(y, y_pred) \n",
    "    confmat =  confusion_matrix(y, y_pred)\n",
    "    f1score = f1_score(y, y_pred, average='macro')\n",
    "    return accuracy, confmat, f1score\n",
    "\n",
    "#Scaling the data\n",
    "scaler = StandardScaler()\n",
    "X_train_scaled = scaler.fit_transform(X_train_earth)\n",
    "X_val_scaled = scaler.fit_transform(X_val_earth)\n"
   ]
  },
  {
   "cell_type": "code",
   "execution_count": 30,
   "id": "fc42d5e3",
   "metadata": {},
   "outputs": [
    {
     "name": "stdout",
     "output_type": "stream",
     "text": [
      "(0.6875, array([[109,   3,   5,   7],\n",
      "       [ 44,  34,   1,   2],\n",
      "       [ 17,   0,  35,   0],\n",
      "       [ 11,   0,   0,  20]], dtype=int64), 0.6775950308777527)\n"
     ]
    }
   ],
   "source": [
    "rf_clf = RandomForestClassifier(random_state=1, class_weight = 'balanced')\n",
    "rf_clf.fit(X_train_scaled, y_train_earth)\n",
    "\n",
    "print(eval_classifier(rf_clf, X_val_scaled, y_val_earth))"
   ]
  },
  {
   "cell_type": "markdown",
   "id": "c36b2b11",
   "metadata": {},
   "source": [
    "The Random Forest classifier obtains a F1 score of 0.677. "
   ]
  },
  {
   "cell_type": "markdown",
   "id": "0c421b14",
   "metadata": {},
   "source": [
    "### Neural Network\n",
    "\n",
    "In this part of the assignment a neural network is build and evaluated. A neural network consists of a variable amount of layers and neurons in each layer. The design and size of a neural network is dependent on the classification task. The layers in this assignments neural network are:\n",
    "- Input Layer: The amount of neurons in the input layer is equal to the amount of features in the feature vector.\n",
    "- Hidden Layers: The amount of hidden layers typically varies between 1 and 5. The amount of hidden layers for this network is based on a similar classification task, namely the classification of the Fashion MNIST dataset which uses 2 hidden layers. The number of neurons in each hidden layer varies between 10 and 100. Again, the initial amount was copied from the Fashion MNIST example\n",
    "- Output Layer: The amount of neurons in the output layer is determined by the amount of different class labels.\n",
    "\n",
    "For this multiclass classification problem, 'ReLu' activation is used to avoid vanishing gradient problems. The output activation function is set to 'softmax', to convert a vector of numbers (input for the last layer) to a vector of probabilities (output of the last layer). Based on these probabilities, the model makes a prediction for each observation entered in the input layer of the network.\n",
    "\n",
    "The optimization of the neural network can be done using various methods, like Gradient Descend, Momentum, Adam etc. Adam is an optimizer which is a combination of AdaGrad and Momentum. Adam has the best of both worlds and is therefore able to quickly find a minimum in de loss function.\n",
    "\n",
    "Early stopping is a regularization technique which is added to prevent the neural network from overfitting. If the validation loss (which should decrease during the training) stops decreasing and starts increasing, it is no longer useful to keep on training the network. Without stopping early, the model will start to overfit which increases the validation loss. \n",
    "\n"
   ]
  },
  {
   "cell_type": "code",
   "execution_count": 31,
   "id": "57ff07f2",
   "metadata": {},
   "outputs": [
    {
     "name": "stderr",
     "output_type": "stream",
     "text": [
      "C:\\Users\\jobmu\\Miniconda3\\envs\\tf2\\lib\\site-packages\\tensorflow\\python\\framework\\dtypes.py:516: FutureWarning: Passing (type, 1) or '1type' as a synonym of type is deprecated; in a future version of numpy, it will be understood as (type, (1,)) / '(1,)type'.\n",
      "  _np_qint8 = np.dtype([(\"qint8\", np.int8, 1)])\n",
      "C:\\Users\\jobmu\\Miniconda3\\envs\\tf2\\lib\\site-packages\\tensorflow\\python\\framework\\dtypes.py:517: FutureWarning: Passing (type, 1) or '1type' as a synonym of type is deprecated; in a future version of numpy, it will be understood as (type, (1,)) / '(1,)type'.\n",
      "  _np_quint8 = np.dtype([(\"quint8\", np.uint8, 1)])\n",
      "C:\\Users\\jobmu\\Miniconda3\\envs\\tf2\\lib\\site-packages\\tensorflow\\python\\framework\\dtypes.py:518: FutureWarning: Passing (type, 1) or '1type' as a synonym of type is deprecated; in a future version of numpy, it will be understood as (type, (1,)) / '(1,)type'.\n",
      "  _np_qint16 = np.dtype([(\"qint16\", np.int16, 1)])\n",
      "C:\\Users\\jobmu\\Miniconda3\\envs\\tf2\\lib\\site-packages\\tensorflow\\python\\framework\\dtypes.py:519: FutureWarning: Passing (type, 1) or '1type' as a synonym of type is deprecated; in a future version of numpy, it will be understood as (type, (1,)) / '(1,)type'.\n",
      "  _np_quint16 = np.dtype([(\"quint16\", np.uint16, 1)])\n",
      "C:\\Users\\jobmu\\Miniconda3\\envs\\tf2\\lib\\site-packages\\tensorflow\\python\\framework\\dtypes.py:520: FutureWarning: Passing (type, 1) or '1type' as a synonym of type is deprecated; in a future version of numpy, it will be understood as (type, (1,)) / '(1,)type'.\n",
      "  _np_qint32 = np.dtype([(\"qint32\", np.int32, 1)])\n",
      "C:\\Users\\jobmu\\Miniconda3\\envs\\tf2\\lib\\site-packages\\tensorflow\\python\\framework\\dtypes.py:525: FutureWarning: Passing (type, 1) or '1type' as a synonym of type is deprecated; in a future version of numpy, it will be understood as (type, (1,)) / '(1,)type'.\n",
      "  np_resource = np.dtype([(\"resource\", np.ubyte, 1)])\n",
      "C:\\Users\\jobmu\\Miniconda3\\envs\\tf2\\lib\\site-packages\\tensorboard\\compat\\tensorflow_stub\\dtypes.py:541: FutureWarning: Passing (type, 1) or '1type' as a synonym of type is deprecated; in a future version of numpy, it will be understood as (type, (1,)) / '(1,)type'.\n",
      "  _np_qint8 = np.dtype([(\"qint8\", np.int8, 1)])\n",
      "C:\\Users\\jobmu\\Miniconda3\\envs\\tf2\\lib\\site-packages\\tensorboard\\compat\\tensorflow_stub\\dtypes.py:542: FutureWarning: Passing (type, 1) or '1type' as a synonym of type is deprecated; in a future version of numpy, it will be understood as (type, (1,)) / '(1,)type'.\n",
      "  _np_quint8 = np.dtype([(\"quint8\", np.uint8, 1)])\n",
      "C:\\Users\\jobmu\\Miniconda3\\envs\\tf2\\lib\\site-packages\\tensorboard\\compat\\tensorflow_stub\\dtypes.py:543: FutureWarning: Passing (type, 1) or '1type' as a synonym of type is deprecated; in a future version of numpy, it will be understood as (type, (1,)) / '(1,)type'.\n",
      "  _np_qint16 = np.dtype([(\"qint16\", np.int16, 1)])\n",
      "C:\\Users\\jobmu\\Miniconda3\\envs\\tf2\\lib\\site-packages\\tensorboard\\compat\\tensorflow_stub\\dtypes.py:544: FutureWarning: Passing (type, 1) or '1type' as a synonym of type is deprecated; in a future version of numpy, it will be understood as (type, (1,)) / '(1,)type'.\n",
      "  _np_quint16 = np.dtype([(\"quint16\", np.uint16, 1)])\n",
      "C:\\Users\\jobmu\\Miniconda3\\envs\\tf2\\lib\\site-packages\\tensorboard\\compat\\tensorflow_stub\\dtypes.py:545: FutureWarning: Passing (type, 1) or '1type' as a synonym of type is deprecated; in a future version of numpy, it will be understood as (type, (1,)) / '(1,)type'.\n",
      "  _np_qint32 = np.dtype([(\"qint32\", np.int32, 1)])\n",
      "C:\\Users\\jobmu\\Miniconda3\\envs\\tf2\\lib\\site-packages\\tensorboard\\compat\\tensorflow_stub\\dtypes.py:550: FutureWarning: Passing (type, 1) or '1type' as a synonym of type is deprecated; in a future version of numpy, it will be understood as (type, (1,)) / '(1,)type'.\n",
      "  np_resource = np.dtype([(\"resource\", np.ubyte, 1)])\n"
     ]
    }
   ],
   "source": [
    "import tensorflow as tf\n",
    "from tensorflow import keras\n",
    "from tensorflow.keras import layers\n",
    "from tensorflow.keras.layers import Dense, Dropout, Flatten\n",
    "from tensorflow.keras.layers import Conv2D, MaxPooling2D\n",
    "from tensorflow.keras.layers import BatchNormalization\n",
    "from tensorflow.keras.layers import LeakyReLU"
   ]
  },
  {
   "cell_type": "code",
   "execution_count": 32,
   "id": "b60b2e9e",
   "metadata": {},
   "outputs": [],
   "source": [
    "def one_hot_encoding(y_orig):\n",
    "    y_one_hot = keras.utils.to_categorical(y_orig)\n",
    "    y_one_hot = y_one_hot.astype(np.uint8)\n",
    "    return y_one_hot\n",
    "\n",
    "y_one_hot_train = one_hot_encoding(y_train_earth)\n",
    "y_one_hot_val = one_hot_encoding(y_val_earth)"
   ]
  },
  {
   "cell_type": "code",
   "execution_count": 33,
   "id": "9ae42241",
   "metadata": {},
   "outputs": [],
   "source": [
    "import os\n",
    "\n",
    "checkpoint_path = \"learned_weights/weights.best.hdf5\"\n",
    "checkpoint_dir = os.path.dirname(checkpoint_path)\n",
    "\n",
    "if not os.path.exists(checkpoint_dir):\n",
    "    os.makedirs(checkpoint_dir)\n",
    "\n",
    "# Create a callback that saves the model's weights\n",
    "cp_callback = tf.keras.callbacks.ModelCheckpoint(filepath=checkpoint_path,\n",
    "                                                 monitor='val_accuracy',\n",
    "                                                 mode='auto',\n",
    "                                                 save_best_only=True,\n",
    "                                                 save_weights_only=False,\n",
    "                                                 save_freq='epoch',\n",
    "                                                 verbose=1)"
   ]
  },
  {
   "cell_type": "code",
   "execution_count": 34,
   "id": "73686232",
   "metadata": {},
   "outputs": [],
   "source": [
    "num_input_units = len(X_train_earth_pca[1])\n",
    "num_logits = len(np.unique(y_train_earth))\n",
    "NNH = 18\n",
    "metrics = ['accuracy']   \n",
    "validation_split = 0.2\n",
    "epochs    = 30\n",
    "batch_size = 10\n",
    "learning_rate = 0.01\n"
   ]
  },
  {
   "cell_type": "code",
   "execution_count": 35,
   "id": "a51ce41e",
   "metadata": {
    "scrolled": false
   },
   "outputs": [],
   "source": [
    "tf.random.set_random_seed(1)\n",
    "\n",
    "def neural_network(n_hidden=2, n_neurons=NNH, learning_rate=learning_rate, metrics = metrics):\n",
    "    model = tf.keras.models.Sequential()\n",
    "    for i in range(n_hidden):\n",
    "        model.add(tf.keras.layers.Dense(NNH, activation='relu', kernel_regularizer=tf.keras.regularizers.l2(0.01)))\n",
    "    model.add(tf.keras.layers.Dropout(rate=0.15))\n",
    "    model.add(tf.keras.layers.Dense(num_logits, activation='softmax'))\n",
    "    optimizer = keras.optimizers.Adam(lr=0.01)\n",
    "    model.compile(optimizer=optimizer,\n",
    "                 loss='categorical_crossentropy',\n",
    "                 metrics=metrics)\n",
    "    return model "
   ]
  },
  {
   "cell_type": "code",
   "execution_count": 36,
   "id": "a43b3061",
   "metadata": {},
   "outputs": [
    {
     "name": "stdout",
     "output_type": "stream",
     "text": [
      "WARNING:tensorflow:From C:\\Users\\jobmu\\Miniconda3\\envs\\tf2\\lib\\site-packages\\tensorflow\\python\\ops\\init_ops.py:1251: calling VarianceScaling.__init__ (from tensorflow.python.ops.init_ops) with dtype is deprecated and will be removed in a future version.\n",
      "Instructions for updating:\n",
      "Call initializer instance with the dtype argument instead of passing it to the constructor\n",
      "Train on 1380 samples, validate on 345 samples\n",
      "Epoch 1/30\n",
      "1380/1380 [==============================] - 0s 229us/sample - loss: 1.2715 - acc: 0.4877 - val_loss: 1.1706 - val_acc: 0.5159\n",
      "Epoch 2/30\n",
      "1380/1380 [==============================] - 0s 143us/sample - loss: 1.0899 - acc: 0.6188 - val_loss: 1.0919 - val_acc: 0.5797\n",
      "Epoch 3/30\n",
      "1380/1380 [==============================] - 0s 126us/sample - loss: 1.0417 - acc: 0.6268 - val_loss: 1.0404 - val_acc: 0.6000\n",
      "Epoch 4/30\n",
      "1380/1380 [==============================] - 0s 132us/sample - loss: 1.0135 - acc: 0.6261 - val_loss: 1.0431 - val_acc: 0.5884\n",
      "Epoch 5/30\n",
      "1380/1380 [==============================] - 0s 137us/sample - loss: 1.0042 - acc: 0.6377 - val_loss: 1.0120 - val_acc: 0.6029\n",
      "Epoch 6/30\n",
      "1380/1380 [==============================] - 0s 126us/sample - loss: 0.9910 - acc: 0.6457 - val_loss: 0.9979 - val_acc: 0.6087\n",
      "Epoch 7/30\n",
      "1380/1380 [==============================] - 0s 132us/sample - loss: 0.9694 - acc: 0.6449 - val_loss: 1.0177 - val_acc: 0.6058\n",
      "Epoch 8/30\n",
      "1380/1380 [==============================] - 0s 129us/sample - loss: 0.9817 - acc: 0.6428 - val_loss: 1.0141 - val_acc: 0.6087\n",
      "Epoch 9/30\n",
      "1380/1380 [==============================] - 0s 128us/sample - loss: 0.9916 - acc: 0.6442 - val_loss: 1.0902 - val_acc: 0.5565\n",
      "Epoch 10/30\n",
      "1380/1380 [==============================] - 0s 126us/sample - loss: 0.9754 - acc: 0.6609 - val_loss: 0.9913 - val_acc: 0.6319\n",
      "Epoch 11/30\n",
      "1380/1380 [==============================] - 0s 131us/sample - loss: 0.9742 - acc: 0.6710 - val_loss: 1.0076 - val_acc: 0.6290\n",
      "Epoch 12/30\n",
      "1380/1380 [==============================] - 0s 133us/sample - loss: 0.9511 - acc: 0.6855 - val_loss: 1.0134 - val_acc: 0.6319\n",
      "Epoch 13/30\n",
      "1380/1380 [==============================] - 0s 136us/sample - loss: 0.9600 - acc: 0.6710 - val_loss: 1.0188 - val_acc: 0.6261\n",
      "Epoch 14/30\n",
      "1380/1380 [==============================] - 0s 128us/sample - loss: 0.9440 - acc: 0.6819 - val_loss: 1.0017 - val_acc: 0.6319\n",
      "Epoch 15/30\n",
      "1380/1380 [==============================] - 0s 127us/sample - loss: 0.9425 - acc: 0.6855 - val_loss: 1.0417 - val_acc: 0.6116\n",
      "Epoch 16/30\n",
      "1380/1380 [==============================] - 0s 124us/sample - loss: 0.9630 - acc: 0.6884 - val_loss: 0.9950 - val_acc: 0.6261\n",
      "Epoch 17/30\n",
      "1380/1380 [==============================] - 0s 130us/sample - loss: 0.9510 - acc: 0.6964 - val_loss: 0.9959 - val_acc: 0.6522\n",
      "Epoch 18/30\n",
      "1380/1380 [==============================] - 0s 136us/sample - loss: 0.9208 - acc: 0.7022 - val_loss: 0.9699 - val_acc: 0.6290\n",
      "Epoch 19/30\n",
      "1380/1380 [==============================] - 0s 132us/sample - loss: 0.9048 - acc: 0.6928 - val_loss: 1.0328 - val_acc: 0.6174\n",
      "Epoch 20/30\n",
      "1380/1380 [==============================] - 0s 126us/sample - loss: 0.9373 - acc: 0.7029 - val_loss: 1.0268 - val_acc: 0.6522\n",
      "Epoch 21/30\n",
      "1380/1380 [==============================] - 0s 132us/sample - loss: 0.9196 - acc: 0.6884 - val_loss: 1.0231 - val_acc: 0.6377\n",
      "Epoch 22/30\n",
      "1380/1380 [==============================] - 0s 136us/sample - loss: 0.9137 - acc: 0.6833 - val_loss: 0.9752 - val_acc: 0.6377\n",
      "Epoch 23/30\n",
      "1380/1380 [==============================] - 0s 124us/sample - loss: 0.9495 - acc: 0.6899 - val_loss: 1.0365 - val_acc: 0.6348\n",
      "Epoch 24/30\n",
      "1380/1380 [==============================] - 0s 132us/sample - loss: 0.8913 - acc: 0.7014 - val_loss: 1.0181 - val_acc: 0.6232\n",
      "Epoch 25/30\n",
      "1380/1380 [==============================] - 0s 121us/sample - loss: 0.9165 - acc: 0.7072 - val_loss: 1.0514 - val_acc: 0.6348\n",
      "Epoch 26/30\n",
      "1380/1380 [==============================] - 0s 129us/sample - loss: 0.9455 - acc: 0.6819 - val_loss: 1.0299 - val_acc: 0.6319\n",
      "Train on 1380 samples, validate on 345 samples\n",
      "Epoch 1/30\n",
      "1380/1380 [==============================] - 0s 239us/sample - loss: 1.2471 - acc: 0.5152 - val_loss: 1.0946 - val_acc: 0.5652\n",
      "Epoch 2/30\n",
      "1380/1380 [==============================] - 0s 126us/sample - loss: 1.0743 - acc: 0.5920 - val_loss: 1.0919 - val_acc: 0.5652\n",
      "Epoch 3/30\n",
      "1380/1380 [==============================] - 0s 128us/sample - loss: 1.0294 - acc: 0.6101 - val_loss: 1.0761 - val_acc: 0.5768\n",
      "Epoch 4/30\n",
      "1380/1380 [==============================] - 0s 130us/sample - loss: 1.0173 - acc: 0.6196 - val_loss: 1.0150 - val_acc: 0.6029\n",
      "Epoch 5/30\n",
      "1380/1380 [==============================] - 0s 128us/sample - loss: 0.9969 - acc: 0.6435 - val_loss: 1.0202 - val_acc: 0.5971\n",
      "Epoch 6/30\n",
      "1380/1380 [==============================] - 0s 138us/sample - loss: 0.9525 - acc: 0.6594 - val_loss: 0.9966 - val_acc: 0.6290\n",
      "Epoch 7/30\n",
      "1380/1380 [==============================] - 0s 126us/sample - loss: 0.9822 - acc: 0.6442 - val_loss: 1.0095 - val_acc: 0.5942\n",
      "Epoch 8/30\n",
      "1380/1380 [==============================] - 0s 126us/sample - loss: 0.9449 - acc: 0.6580 - val_loss: 0.9825 - val_acc: 0.6203\n",
      "Epoch 9/30\n",
      "1380/1380 [==============================] - 0s 126us/sample - loss: 0.9371 - acc: 0.6681 - val_loss: 1.0140 - val_acc: 0.6058\n",
      "Epoch 10/30\n",
      "1380/1380 [==============================] - 0s 125us/sample - loss: 0.9542 - acc: 0.6536 - val_loss: 1.0066 - val_acc: 0.5971\n",
      "Epoch 11/30\n",
      "1380/1380 [==============================] - 0s 137us/sample - loss: 0.9312 - acc: 0.6601 - val_loss: 0.9719 - val_acc: 0.6116\n",
      "Epoch 12/30\n",
      "1380/1380 [==============================] - 0s 145us/sample - loss: 0.9231 - acc: 0.6768 - val_loss: 0.9658 - val_acc: 0.6145\n",
      "Epoch 13/30\n",
      "1380/1380 [==============================] - 0s 134us/sample - loss: 0.9233 - acc: 0.6841 - val_loss: 1.0097 - val_acc: 0.6261\n",
      "Epoch 14/30\n",
      "1380/1380 [==============================] - ETA: 0s - loss: 0.8992 - acc: 0.688 - 0s 135us/sample - loss: 0.8986 - acc: 0.6899 - val_loss: 1.0167 - val_acc: 0.6551\n",
      "Epoch 15/30\n",
      "1380/1380 [==============================] - 0s 133us/sample - loss: 0.9174 - acc: 0.6870 - val_loss: 1.0179 - val_acc: 0.6580\n",
      "Epoch 16/30\n",
      "1380/1380 [==============================] - 0s 124us/sample - loss: 0.9315 - acc: 0.6935 - val_loss: 0.9855 - val_acc: 0.6406\n",
      "Epoch 17/30\n",
      "1380/1380 [==============================] - 0s 129us/sample - loss: 0.9032 - acc: 0.6754 - val_loss: 0.9708 - val_acc: 0.6522\n",
      "Epoch 18/30\n",
      "1380/1380 [==============================] - 0s 122us/sample - loss: 0.9039 - acc: 0.7043 - val_loss: 1.0104 - val_acc: 0.6319\n",
      "Epoch 19/30\n",
      "1380/1380 [==============================] - 0s 128us/sample - loss: 0.9197 - acc: 0.6645 - val_loss: 0.9835 - val_acc: 0.6493\n",
      "Epoch 20/30\n",
      "1380/1380 [==============================] - 0s 129us/sample - loss: 0.8897 - acc: 0.6971 - val_loss: 1.0328 - val_acc: 0.6145\n"
     ]
    }
   ],
   "source": [
    "# Prevent overfitting with early stopping\n",
    "early_stopping = keras.callbacks.EarlyStopping(patience=8)\n",
    "nn = neural_network()\n",
    "nn.fit(X_train_earth_pca, y_one_hot_train, validation_split=validation_split, epochs=epochs, batch_size=batch_size,callbacks=[early_stopping])\n",
    "\n",
    "init_neural_network = keras.wrappers.scikit_learn.KerasClassifier(neural_network)\n",
    "history = init_neural_network.fit(X_train_earth_pca, y_one_hot_train, validation_split=validation_split, epochs=epochs, batch_size=batch_size,callbacks=[early_stopping])"
   ]
  },
  {
   "cell_type": "code",
   "execution_count": 37,
   "id": "a23b1c45",
   "metadata": {},
   "outputs": [
    {
     "name": "stdout",
     "output_type": "stream",
     "text": [
      "dict_keys(['loss', 'acc', 'val_loss', 'val_acc'])\n"
     ]
    },
    {
     "data": {
      "image/png": "[encoded data removed]",
      "text/plain": [
       "<Figure size 432x288 with 1 Axes>"
      ]
     },
     "metadata": {
      "needs_background": "light"
     },
     "output_type": "display_data"
    },
    {
     "data": {
      "image/png": "[encoded data removed]",
      "text/plain": [
       "<Figure size 432x288 with 1 Axes>"
      ]
     },
     "metadata": {
      "needs_background": "light"
     },
     "output_type": "display_data"
    }
   ],
   "source": [
    "print(history.history.keys())\n",
    "# summarize history for accuracy\n",
    "plt.plot(history.history['acc'])\n",
    "plt.plot(history.history['val_acc'])\n",
    "plt.title('model accuracy')\n",
    "plt.ylabel('accuracy')\n",
    "plt.xlabel('epoch')\n",
    "plt.legend(['train', 'val'], loc='upper left')\n",
    "plt.show()\n",
    "# summarize history for loss\n",
    "plt.plot(history.history['loss'])\n",
    "plt.plot(history.history['val_loss'])\n",
    "plt.title('model loss')\n",
    "plt.ylabel('loss')\n",
    "plt.xlabel('epoch')\n",
    "plt.legend(['train', 'val'], loc='upper left')\n",
    "plt.show()"
   ]
  },
  {
   "cell_type": "markdown",
   "id": "44f3acad",
   "metadata": {},
   "source": [
    "## 3.2. Fine-Tune the System\n",
    "1. What are the most important hyperparameters of your chosen algorithm?\n",
    "2. Perform hyperparameter optimization (including pre-processing steps)\n",
    "3. Compare at least 3 models with different sets of hyperparameters \n",
    "4. Evaluate the final model (similar to “Shortlist Promising Models” above)"
   ]
  },
  {
   "cell_type": "markdown",
   "id": "9fbfb901",
   "metadata": {},
   "source": [
    "### Fine-Tuning the neural network\n",
    "The most important hyperparameters for the Neural Network are:\n",
    "\n",
    "- Learning rate \n",
    "- Network topology\n",
    "- Activation function\n",
    "\n",
    "The learning rate plays a role in the gradient descend of training a neural network, which enables the neural network to find a minimum in the loss function. If the learning rate has a high value, gradient descend takes (too) large steps and might converge to a suboptimal minimum too quickly. If the learning rate is too small however, training will progress very slowly as the updates to the weights and biases in the network are tiny. \n",
    "\n",
    "By randomly entering values for the hyperparameters, an optimal combination of hyperparameters can be approached. \n",
    "\n",
    "Default values of the neural network:\n",
    "- Learning rate = 0.01\n",
    "- Neurons in each layer = 20\n",
    "- Activation function = 'ReLU'\n",
    "\n",
    "Another way of finding the optimal values for hyperparameters is using the RandomSearchCV function from sklearn. \n",
    "\n",
    "Varying the Learning Rate:\n",
    "\n",
    "- For a learning rate of 0.1, the validation accuracy was 0.6238 and the validation loss was 1.0741.\n",
    "- For a learning rate of 0.001, the validation accuracy was 0.6740 and the validation loss was 1.0421.\n",
    "- For a learning rate of 0.0001, the validation accuracy was 0.6928 and the validation loss was 1.014.\n",
    "\n",
    "Varying the Network Topology:\n",
    "\n",
    "- Using 10 neurons in each layer, the validation accuracy was 0.67 and the validation loss was 0.997.\n",
    "- Using 50 neurons in each layer, the validation accuracy was 0.636 and the validation loss was 1.000.\n",
    "- Using 100 neurons in each layer, the validation accuracy was 0.627 and the validation loss was 1.0422.\n",
    "\n",
    "Varying the activation function:\n",
    "\n",
    "- Using the activation functin 'sigmoid', the validation accuracy was 0.693 and the validation loss was 0.975.\n",
    "- Using the activation functin 'tanh', the validation accuracy was 0.627 and the validation loss was 1.0381.\n",
    "- Using the activation functin 'ReLU', the validation accuracy was 0.655 and the validation loss was 1.05."
   ]
  },
  {
   "cell_type": "code",
   "execution_count": 38,
   "id": "8e86175d",
   "metadata": {},
   "outputs": [
    {
     "data": {
      "text/plain": [
       "'# # Adapting learning rate\\nearly_stopping = keras.callbacks.EarlyStopping(patience=8)\\n\\n#Learning rate 1\\nlearning_rate = 0.01\\nkeras_iteration1lr = keras.wrappers.scikit_learn.KerasClassifier(neural_network)\\nhistory_lr1 = keras_iteration1lr.fit(X_train_earth_pca, y_one_hot_train, validation_split=validation_split, epochs=epochs, batch_size=batch_size,callbacks=[early_stopping])\\n\\n#Learning rate 1\\nlearning_rate = 0.0001\\nkeras_iteration2lr = keras.wrappers.scikit_learn.KerasClassifier(neural_network)\\nhistory_lr2 = keras_iteration2lr.fit(X_train_earth_pca, y_one_hot_train, validation_split=validation_split, epochs=epochs, batch_size=batch_size, callbacks=[early_stopping])\\n\\n#Learning rate 1\\nlearning_rate = 0.00001\\nkeras_iteration3lr = keras.wrappers.scikit_learn.KerasClassifier(neural_network)\\nhistory_lr3 = keras_iteration3lr.fit(X_train_earth_pca, y_one_hot_train, validation_split=validation_split, epochs=epochs, batch_size=batch_size, callbacks=[early_stopping])'"
      ]
     },
     "execution_count": 38,
     "metadata": {},
     "output_type": "execute_result"
    }
   ],
   "source": [
    "'''# # Adapting learning rate\n",
    "early_stopping = keras.callbacks.EarlyStopping(patience=8)\n",
    "\n",
    "#Learning rate 1\n",
    "learning_rate = 0.01\n",
    "keras_iteration1lr = keras.wrappers.scikit_learn.KerasClassifier(neural_network)\n",
    "history_lr1 = keras_iteration1lr.fit(X_train_earth_pca, y_one_hot_train, validation_split=validation_split, epochs=epochs, batch_size=batch_size,callbacks=[early_stopping])\n",
    "\n",
    "#Learning rate 1\n",
    "learning_rate = 0.0001\n",
    "keras_iteration2lr = keras.wrappers.scikit_learn.KerasClassifier(neural_network)\n",
    "history_lr2 = keras_iteration2lr.fit(X_train_earth_pca, y_one_hot_train, validation_split=validation_split, epochs=epochs, batch_size=batch_size, callbacks=[early_stopping])\n",
    "\n",
    "#Learning rate 1\n",
    "learning_rate = 0.00001\n",
    "keras_iteration3lr = keras.wrappers.scikit_learn.KerasClassifier(neural_network)\n",
    "history_lr3 = keras_iteration3lr.fit(X_train_earth_pca, y_one_hot_train, validation_split=validation_split, epochs=epochs, batch_size=batch_size, callbacks=[early_stopping])'''"
   ]
  },
  {
   "cell_type": "code",
   "execution_count": 39,
   "id": "bc2ed51f",
   "metadata": {},
   "outputs": [
    {
     "data": {
      "text/plain": [
       "'#PLOT RESULTS\\nplt.figure(1)\\nplt.plot(history_lr1.history[\\'val_acc\\'], \\'r\\', label=\\'val_accuracy\\')\\nplt.plot(history_lr1.history[\\'acc\\'], \\'y\\', label=\\'accuracy\\')\\nplt.plot(history_lr1.history[\\'loss\\'], \\'b\\',label=\\'loss\\')\\nplt.plot(history_lr1.history[\\'val_loss\\'] , \\'g\\', label=\\'val_loss\\')\\nplt.title(\"learning_rate = 0.01\")\\nplt.xlabel(\\'epoch\\')\\nplt.ylabel(\\'loss/accuracy\\')\\nplt.legend()\\n\\nplt.figure(2)\\nplt.plot(history_lr2.history[\\'val_acc\\'], \\'r\\',label=\\'val_acc\\')\\nplt.plot(history_lr2.history[\\'acc\\'],\\'y\\', label=\\'accuracy\\')\\nplt.plot(history_lr2.history[\\'loss\\'], \\'b\\',label=\\'loss\\')\\nplt.plot(history_lr2.history[\\'val_loss\\'], \\'g\\',label=\\'val_loss\\')\\nplt.title(\"learning_rate = 0.0001\")\\nplt.xlabel(\\'epoch\\')\\nplt.ylabel(\\'loss/accuracy\\')\\nplt.legend()\\n\\n\\nplt.figure(3)\\nplt.plot(history_lr3.history[\\'val_acc\\'], \\'r\\',label=\\'val_accuracy\\')\\nplt.plot(history_lr3.history[\\'acc\\'], \\'y\\',label=\\'accuracy\\')\\nplt.plot(history_lr3.history[\\'loss\\'], \\'b\\',label=\\'loss\\')\\nplt.plot(history_lr3.history[\\'val_loss\\'] , \\'g\\',label=\\'val_loss\\')\\nplt.title(\"learning_rate = 0.00001\")\\nplt.xlabel(\\'epoch\\')\\nplt.ylabel(\\'loss/accuracy\\')\\nplt.legend()'"
      ]
     },
     "execution_count": 39,
     "metadata": {},
     "output_type": "execute_result"
    }
   ],
   "source": [
    "'''#PLOT RESULTS\n",
    "plt.figure(1)\n",
    "plt.plot(history_lr1.history['val_acc'], 'r', label='val_accuracy')\n",
    "plt.plot(history_lr1.history['acc'], 'y', label='accuracy')\n",
    "plt.plot(history_lr1.history['loss'], 'b',label='loss')\n",
    "plt.plot(history_lr1.history['val_loss'] , 'g', label='val_loss')\n",
    "plt.title(\"learning_rate = 0.01\")\n",
    "plt.xlabel('epoch')\n",
    "plt.ylabel('loss/accuracy')\n",
    "plt.legend()\n",
    "\n",
    "plt.figure(2)\n",
    "plt.plot(history_lr2.history['val_acc'], 'r',label='val_acc')\n",
    "plt.plot(history_lr2.history['acc'],'y', label='accuracy')\n",
    "plt.plot(history_lr2.history['loss'], 'b',label='loss')\n",
    "plt.plot(history_lr2.history['val_loss'], 'g',label='val_loss')\n",
    "plt.title(\"learning_rate = 0.0001\")\n",
    "plt.xlabel('epoch')\n",
    "plt.ylabel('loss/accuracy')\n",
    "plt.legend()\n",
    "\n",
    "\n",
    "plt.figure(3)\n",
    "plt.plot(history_lr3.history['val_acc'], 'r',label='val_accuracy')\n",
    "plt.plot(history_lr3.history['acc'], 'y',label='accuracy')\n",
    "plt.plot(history_lr3.history['loss'], 'b',label='loss')\n",
    "plt.plot(history_lr3.history['val_loss'] , 'g',label='val_loss')\n",
    "plt.title(\"learning_rate = 0.00001\")\n",
    "plt.xlabel('epoch')\n",
    "plt.ylabel('loss/accuracy')\n",
    "plt.legend()'''"
   ]
  },
  {
   "cell_type": "code",
   "execution_count": 40,
   "id": "314c1f4d",
   "metadata": {},
   "outputs": [
    {
     "data": {
      "text/plain": [
       "\"# # Adapting loss function\\nlearning_rate = 0.001 # set learning_rate back to 0.001\\n\\nprint('Default activation function is relu')\\n\\n# sigmoid\\nactivation = 'sigmoid'\\nkeras_iteration1ac = keras.wrappers.scikit_learn.KerasClassifier(neural_network)\\nhistory_act1 = keras_iteration1ac.fit(X_train_earth_pca, y_one_hot_train, validation_split=validation_split, epochs=epochs, batch_size=batch_size,callbacks=[early_stopping])\\n\\n# tanh\\nactivation = 'tanh'\\nkeras_iteration2ac = keras.wrappers.scikit_learn.KerasClassifier(neural_network)\\nhistory_act2 = keras_iteration2ac.fit(X_train_earth_pca, y_one_hot_train, validation_split=validation_split, epochs=epochs, batch_size=batch_size, callbacks=[early_stopping])\\n\""
      ]
     },
     "execution_count": 40,
     "metadata": {},
     "output_type": "execute_result"
    }
   ],
   "source": [
    "'''# # Adapting loss function\n",
    "learning_rate = 0.001 # set learning_rate back to 0.001\n",
    "\n",
    "print('Default activation function is relu')\n",
    "\n",
    "# sigmoid\n",
    "activation = 'sigmoid'\n",
    "keras_iteration1ac = keras.wrappers.scikit_learn.KerasClassifier(neural_network)\n",
    "history_act1 = keras_iteration1ac.fit(X_train_earth_pca, y_one_hot_train, validation_split=validation_split, epochs=epochs, batch_size=batch_size,callbacks=[early_stopping])\n",
    "\n",
    "# tanh\n",
    "activation = 'tanh'\n",
    "keras_iteration2ac = keras.wrappers.scikit_learn.KerasClassifier(neural_network)\n",
    "history_act2 = keras_iteration2ac.fit(X_train_earth_pca, y_one_hot_train, validation_split=validation_split, epochs=epochs, batch_size=batch_size, callbacks=[early_stopping])\n",
    "'''"
   ]
  },
  {
   "cell_type": "code",
   "execution_count": 41,
   "id": "55f35a53",
   "metadata": {},
   "outputs": [
    {
     "data": {
      "text/plain": [
       "'#PLOT RESULTS\\nplt.figure(1)\\nplt.plot(history_act1.history[\\'val_acc\\'], \\'r\\', label=\\'val_accuracy\\')\\nplt.plot(history_act1.history[\\'acc\\'], \\'y\\', label=\\'accuracy\\')\\nplt.plot(history_act1.history[\\'loss\\'], \\'b\\',label=\\'loss\\')\\nplt.plot(history_act1.history[\\'val_loss\\'] , \\'g\\', label=\\'val_loss\\')\\nplt.title(\"activation = sigmoid\")\\nplt.xlabel(\\'epoch\\')\\nplt.ylabel(\\'loss/accuracy\\')\\nplt.legend()\\n\\nplt.figure(2)\\nplt.plot(history_act2.history[\\'val_acc\\'], \\'r\\',label=\\'val_acc\\')\\nplt.plot(history_act2.history[\\'acc\\'],\\'y\\', label=\\'accuracy\\')\\nplt.plot(history_act2.history[\\'loss\\'], \\'b\\',label=\\'loss\\')\\nplt.plot(history_act2.history[\\'val_loss\\'], \\'g\\',label=\\'val_loss\\')\\nplt.title(\"activation = tanh\")\\nplt.xlabel(\\'epoch\\')\\nplt.ylabel(\\'loss/accuracy\\')\\nplt.legend()'"
      ]
     },
     "execution_count": 41,
     "metadata": {},
     "output_type": "execute_result"
    }
   ],
   "source": [
    "'''#PLOT RESULTS\n",
    "plt.figure(1)\n",
    "plt.plot(history_act1.history['val_acc'], 'r', label='val_accuracy')\n",
    "plt.plot(history_act1.history['acc'], 'y', label='accuracy')\n",
    "plt.plot(history_act1.history['loss'], 'b',label='loss')\n",
    "plt.plot(history_act1.history['val_loss'] , 'g', label='val_loss')\n",
    "plt.title(\"activation = sigmoid\")\n",
    "plt.xlabel('epoch')\n",
    "plt.ylabel('loss/accuracy')\n",
    "plt.legend()\n",
    "\n",
    "plt.figure(2)\n",
    "plt.plot(history_act2.history['val_acc'], 'r',label='val_acc')\n",
    "plt.plot(history_act2.history['acc'],'y', label='accuracy')\n",
    "plt.plot(history_act2.history['loss'], 'b',label='loss')\n",
    "plt.plot(history_act2.history['val_loss'], 'g',label='val_loss')\n",
    "plt.title(\"activation = tanh\")\n",
    "plt.xlabel('epoch')\n",
    "plt.ylabel('loss/accuracy')\n",
    "plt.legend()'''"
   ]
  },
  {
   "cell_type": "code",
   "execution_count": 42,
   "id": "2f8fff89",
   "metadata": {},
   "outputs": [
    {
     "data": {
      "text/plain": [
       "\"# # Adapting loss function\\nactivation = 'relu' # set activation back to relu\\n\\n# n_neurons = 10\\nn_neurons = 10\\nkeras_iteration1n = keras.wrappers.scikit_learn.KerasClassifier(neural_network)\\nhistory_n1 = keras_iteration1n.fit(X_train_earth_pca, y_one_hot_train, validation_split=validation_split, epochs=epochs, batch_size=batch_size,callbacks=[early_stopping])\\n\\n# n_neurons = 50\\nn_neurons = 50\\nkeras_iteration2n = keras.wrappers.scikit_learn.KerasClassifier(neural_network)\\nhistory_n2 = keras_iteration2n.fit(X_train_earth_pca, y_one_hot_train, validation_split=validation_split, epochs=epochs, batch_size=batch_size, callbacks=[early_stopping])\\n\\n# n_neurons = 100\\nn_neurons = 100\\nkeras_iteration3n = keras.wrappers.scikit_learn.KerasClassifier(neural_network)\\nhistory_n3 = keras_iteration3n.fit(X_train_earth_pca, y_one_hot_train, validation_split=validation_split, epochs=epochs, batch_size=batch_size, callbacks=[early_stopping])\""
      ]
     },
     "execution_count": 42,
     "metadata": {},
     "output_type": "execute_result"
    }
   ],
   "source": [
    "'''# # Adapting loss function\n",
    "activation = 'relu' # set activation back to relu\n",
    "\n",
    "# n_neurons = 10\n",
    "n_neurons = 10\n",
    "keras_iteration1n = keras.wrappers.scikit_learn.KerasClassifier(neural_network)\n",
    "history_n1 = keras_iteration1n.fit(X_train_earth_pca, y_one_hot_train, validation_split=validation_split, epochs=epochs, batch_size=batch_size,callbacks=[early_stopping])\n",
    "\n",
    "# n_neurons = 50\n",
    "n_neurons = 50\n",
    "keras_iteration2n = keras.wrappers.scikit_learn.KerasClassifier(neural_network)\n",
    "history_n2 = keras_iteration2n.fit(X_train_earth_pca, y_one_hot_train, validation_split=validation_split, epochs=epochs, batch_size=batch_size, callbacks=[early_stopping])\n",
    "\n",
    "# n_neurons = 100\n",
    "n_neurons = 100\n",
    "keras_iteration3n = keras.wrappers.scikit_learn.KerasClassifier(neural_network)\n",
    "history_n3 = keras_iteration3n.fit(X_train_earth_pca, y_one_hot_train, validation_split=validation_split, epochs=epochs, batch_size=batch_size, callbacks=[early_stopping])'''"
   ]
  },
  {
   "cell_type": "code",
   "execution_count": 43,
   "id": "24b2a179",
   "metadata": {},
   "outputs": [
    {
     "data": {
      "text/plain": [
       "'#PLOT RESULTS\\nplt.figure(1)\\nplt.plot(history_n1.history[\\'val_acc\\'], \\'r\\', label=\\'val_accuracy\\')\\nplt.plot(history_n1.history[\\'acc\\'], \\'y\\', label=\\'accuracy\\')\\nplt.plot(history_n1.history[\\'loss\\'], \\'b\\',label=\\'loss\\')\\nplt.plot(history_n1.history[\\'val_loss\\'] , \\'g\\', label=\\'val_loss\\')\\nplt.title(\"10 neurons per hidden layer\")\\nplt.xlabel(\\'epoch\\')\\nplt.ylabel(\\'loss/accuracy\\')\\nplt.legend()\\n\\nplt.figure(2)\\nplt.plot(history_n2.history[\\'val_acc\\'], \\'r\\',label=\\'val_acc\\')\\nplt.plot(history_n2.history[\\'acc\\'],\\'y\\', label=\\'accuracy\\')\\nplt.plot(history_n2.history[\\'loss\\'], \\'b\\',label=\\'loss\\')\\nplt.plot(history_n2.history[\\'val_loss\\'], \\'g\\',label=\\'val_loss\\')\\nplt.title(\"50 neurons per hidden layer\")\\nplt.xlabel(\\'epoch\\')\\nplt.ylabel(\\'loss/accuracy\\')\\nplt.legend()\\n\\n\\nplt.figure(3)\\nplt.plot(history_n3.history[\\'val_acc\\'], \\'r\\',label=\\'val_accuracy\\')\\nplt.plot(history_n3.history[\\'acc\\'], \\'y\\',label=\\'accuracy\\')\\nplt.plot(history_n3.history[\\'loss\\'], \\'b\\',label=\\'loss\\')\\nplt.plot(history_n3.history[\\'val_loss\\'] , \\'g\\',label=\\'val_loss\\')\\nplt.title(\"100 neurons per hidden layer\")\\nplt.xlabel(\\'epoch\\')\\nplt.ylabel(\\'loss/accuracy\\')\\nplt.legend()'"
      ]
     },
     "execution_count": 43,
     "metadata": {},
     "output_type": "execute_result"
    }
   ],
   "source": [
    "'''#PLOT RESULTS\n",
    "plt.figure(1)\n",
    "plt.plot(history_n1.history['val_acc'], 'r', label='val_accuracy')\n",
    "plt.plot(history_n1.history['acc'], 'y', label='accuracy')\n",
    "plt.plot(history_n1.history['loss'], 'b',label='loss')\n",
    "plt.plot(history_n1.history['val_loss'] , 'g', label='val_loss')\n",
    "plt.title(\"10 neurons per hidden layer\")\n",
    "plt.xlabel('epoch')\n",
    "plt.ylabel('loss/accuracy')\n",
    "plt.legend()\n",
    "\n",
    "plt.figure(2)\n",
    "plt.plot(history_n2.history['val_acc'], 'r',label='val_acc')\n",
    "plt.plot(history_n2.history['acc'],'y', label='accuracy')\n",
    "plt.plot(history_n2.history['loss'], 'b',label='loss')\n",
    "plt.plot(history_n2.history['val_loss'], 'g',label='val_loss')\n",
    "plt.title(\"50 neurons per hidden layer\")\n",
    "plt.xlabel('epoch')\n",
    "plt.ylabel('loss/accuracy')\n",
    "plt.legend()\n",
    "\n",
    "\n",
    "plt.figure(3)\n",
    "plt.plot(history_n3.history['val_acc'], 'r',label='val_accuracy')\n",
    "plt.plot(history_n3.history['acc'], 'y',label='accuracy')\n",
    "plt.plot(history_n3.history['loss'], 'b',label='loss')\n",
    "plt.plot(history_n3.history['val_loss'] , 'g',label='val_loss')\n",
    "plt.title(\"100 neurons per hidden layer\")\n",
    "plt.xlabel('epoch')\n",
    "plt.ylabel('loss/accuracy')\n",
    "plt.legend()'''"
   ]
  },
  {
   "cell_type": "markdown",
   "id": "0dcdc06e",
   "metadata": {},
   "source": [
    "---\n",
    "\n",
    "# 4. Enabling Generalization (20 points)\n",
    "Now we are going to train and test a single model that is suitable for racing on all planets, i.e., a model that can generalize between planets and even to unseen planets, and that is robust to different colors of the background terrain. The idea is to take the final model you developed above as a starting point and to further develop it further for generalization.\n",
    "\n",
    "The simulator provides you access to Neptune. However, this is to be treated as the test set, i.e., you are only allowed to test your model on it as the very final step. I.e., do not tweak your model after running that environment, you would be overfitting to the test data. Performance on the Neptune environment will NOT influence your grade.\n",
    "\n",
    "1. How can the 3 provided datasets be used to train a model that can generalize, and even more importantly how can they be used to evaluate whether a model can generalize? (Hint: Lecture 2)\n",
    "2. Above you designed features for action classification, evaluate whether that feature is indeed suitable for generalization. If necessary adapt the feature extraction.\n",
    "3. Compare how well models trained just on the data from Earth and models trained on data of multiple planets generalize to unseen planets (using the approach from the first bullet, do *not* use Neptune for this comparison). Make sure that this is a fair comparison, e.g., in terms of the amount and quality of the data.\n",
    "4. Discuss at least 2 methods that can be employed to make your model perform better and be robust to the variations we have in this scenario (methods for any step are fine: data collection, data augmentation, pre-processing, model structure, training, etc.)\n",
    "5. Implement at least one of those methods.\n",
    "6. Evaluate the final model (similar to “Shortlist Promising Models” above) for generalization making use only of data from Earth, Mars, and Saturn.\n",
    "7. Test the final model on the Neptune environment and discuss its performance.\n",
    "8. Save the parameters of your best multi scenario model to your hard drive (use pickle for sklearn or built-in save/load for keras), you will need to be able to reload your model without training in the next step. Be sure to include the saved parameters in your zip file so we can evaluate your best model too, even without rerunning the notebook up to here."
   ]
  },
  {
   "cell_type": "markdown",
   "id": "96ae221d",
   "metadata": {},
   "source": [
    "To check whether the model can generalize, we use the Earth datasets as training data and use the datasets from other planets as validation data. If the model succesfully classifies the actions on Mars and Saturn, the model is able to generalize since it has never seen these backgrounds. Moreover, in that scenario the model is likely to be succesfull on the third planet Neptune as well.\n",
    "\n",
    "The model obtained in the previous part is able to drive on planet Earth. However, if we run the simulator on another planet like Mars, the performance decreases drastically. The model does not generalize well enough yet. In order to be able to drive on every planet regardless of the background color, the features should be manipulated even more. \n",
    "\n",
    "The current feature extraction consist of gray-scaling the observation before feeding it to a Sobel filter. The light-green color of the Earth background is still light in constrast with the road if the Earth observation is transformed to grayscale. However, for other planets it is much more difficult to distinguish the background from the road, since the gray-scale converted background colors are darker and therefore resemble the road more. To completely get rid of the background color, an additional filter preserves only the road and whitenes all gray-values that exceed the gray-value of the road. \n",
    "\n",
    "Since the training data is equal for all planets now, there is no systematic difference between models that are trained just on Earth and models that are trained on multiple planets. The model sees no difference between samples from different planets so training on different planets does not have an impact on the performance of the model.\n",
    "\n",
    "There are various methods that can be employed to make the model perform better and be robuts to the variations. One of them is data augmentation. Data augmentation is a technique to artificially expand the size of the training set by creating modified versions of images in the dataset. This technique is used when the available dataset for training is too small to sufficiently train a model. This is not the case for this assignment, as there are 14000 available samples and adding more samples would only slow the model down instead of increasing accuracy. Another solution is pre-processing the data. In our model, we have extended pre-processing on the data, namely modifying the background color to white to simplify the model. Since the features in the model have been reduced using feature extraction, the model has modified to get a higher performance. The amount of features has been reduced by PCA so also the amount of neurons in the hidden layers have been decreased. What also has been found in the results of the model fine-tuning, is that less neurons in the hidden layer is more beneficial for the model.\n",
    "\n",
    "The accuracy and the f1-score of the model have decreased during the tweaking of our model. However, the performance of the racing car on all planets, including the validation data increased. The accuracy and the f1-score are good metrics to provide statistical information about the performance. In scenario however, it does not necessarily matter if the predicted action do not match the optimal actions. If an action 0 has been swapped with action 1, it does not influence the performance negatively. "
   ]
  },
  {
   "cell_type": "code",
   "execution_count": 55,
   "id": "ae785220",
   "metadata": {},
   "outputs": [
    {
     "data": {
      "text/plain": [
       "array([[0., 0., 0., ..., 0., 0., 0.],\n",
       "       [0., 0., 0., ..., 0., 0., 0.]])"
      ]
     },
     "execution_count": 55,
     "metadata": {},
     "output_type": "execute_result"
    },
    {
     "data": {
      "image/png": "[encoded data removed]",
      "text/plain": [
       "<Figure size 432x288 with 1 Axes>"
      ]
     },
     "metadata": {
      "needs_background": "light"
     },
     "output_type": "display_data"
    }
   ],
   "source": [
    "def feat_extract_final(X):\n",
    "    gray = rgb2gray(X)[:,20:80,20:80]\n",
    "    gray[gray>0.43] = 1\n",
    "    gray_test = gray[0]\n",
    "    obs_filter = np.zeros(gray.shape)\n",
    "    for i in range(len(X)):\n",
    "        obs_filter[i] = filters.sobel(gray[i])\n",
    "    obs_filter = obs_filter.reshape(obs_filter.shape[0], obs_filter.shape[1]*obs_filter.shape[2]) \n",
    "    plt.imshow(gray_test,cmap='gray')\n",
    "    return obs_filter\n",
    "\n",
    "def feature_vector_final(X):\n",
    "    gray = rgb2gray(X)[20:80,20:80]\n",
    "    gray[gray>0.43] = 1\n",
    "    gray_test = gray[0]\n",
    "    obs_filter = filters.sobel(gray)\n",
    "    obs_filter = obs_filter.reshape(1, obs_filter.shape[0]*obs_filter.shape[1]) \n",
    "    return obs_filter\n",
    "\n",
    "feat_extract_final(observations[10001:10003])"
   ]
  },
  {
   "cell_type": "code",
   "execution_count": 46,
   "id": "fee30157",
   "metadata": {},
   "outputs": [
    {
     "name": "stdout",
     "output_type": "stream",
     "text": [
      "[2500 1700 1300 1180]\n",
      "Train on 5344 samples, validate on 1336 samples\n",
      "Epoch 1/50\n",
      "5344/5344 [==============================] - 1s 167us/sample - loss: 1.1795 - acc: 0.5818 - val_loss: 1.4127 - val_acc: 0.2822\n",
      "Epoch 2/50\n",
      "5344/5344 [==============================] - 1s 138us/sample - loss: 1.0712 - acc: 0.6067 - val_loss: 1.3615 - val_acc: 0.4731\n",
      "Epoch 3/50\n",
      "5344/5344 [==============================] - 1s 127us/sample - loss: 1.0521 - acc: 0.6201 - val_loss: 1.1696 - val_acc: 0.4895\n",
      "Epoch 4/50\n",
      "5344/5344 [==============================] - 1s 129us/sample - loss: 1.0427 - acc: 0.6158 - val_loss: 1.2211 - val_acc: 0.5254\n",
      "Epoch 5/50\n",
      "5344/5344 [==============================] - 1s 131us/sample - loss: 1.0276 - acc: 0.6158 - val_loss: 1.2049 - val_acc: 0.4731\n",
      "Epoch 6/50\n",
      "5344/5344 [==============================] - 1s 122us/sample - loss: 1.0273 - acc: 0.6304 - val_loss: 1.4108 - val_acc: 0.3540\n",
      "Epoch 7/50\n",
      "5344/5344 [==============================] - 1s 132us/sample - loss: 1.0392 - acc: 0.6196 - val_loss: 1.2666 - val_acc: 0.4603\n",
      "Epoch 8/50\n",
      "5344/5344 [==============================] - ETA: 0s - loss: 1.0390 - acc: 0.622 - 1s 131us/sample - loss: 1.0370 - acc: 0.6229 - val_loss: 1.3218 - val_acc: 0.4364\n",
      "Epoch 9/50\n",
      "5344/5344 [==============================] - 1s 129us/sample - loss: 1.0293 - acc: 0.6325 - val_loss: 1.2638 - val_acc: 0.4880\n",
      "Epoch 10/50\n",
      "5344/5344 [==============================] - 1s 126us/sample - loss: 1.0234 - acc: 0.6310 - val_loss: 1.2990 - val_acc: 0.4835\n",
      "Epoch 11/50\n",
      "5344/5344 [==============================] - 1s 130us/sample - loss: 1.0280 - acc: 0.6332 - val_loss: 1.4043 - val_acc: 0.3533\n"
     ]
    },
    {
     "data": {
      "text/plain": [
       "<tensorflow.python.keras.callbacks.History at 0x26548c1ff88>"
      ]
     },
     "execution_count": 46,
     "metadata": {},
     "output_type": "execute_result"
    }
   ],
   "source": [
    "## We only used data from earth, now we will use data from Mars an Saturn\n",
    "samples = observations[0:10000]\n",
    "sample_actions = actions[0:10000]\n",
    "# samples_val = observations[10000:14000]\n",
    "# sample_actions_val = actions[10000:14000]\n",
    "\n",
    "## Distribute actions more evenly\n",
    "samples_distributed, sample_actions_distributed = distribute(samples, sample_actions, 0, 800, 1200, 0, 0, 2500)\n",
    "# samples_val_distributed, sample_val_actions_distributed = distribute(samples_val, sample_actions_val, 0, 250, 450, 0, 0, 1000)\n",
    "print(np.bincount(sample_actions_distributed))\n",
    "# print(np.bincount(sample_val_actions_distributed))\n",
    "\n",
    "# Extract features of the samples\n",
    "X_final_train, y_final_train = feat_extract(samples_distributed), sample_actions_distributed\n",
    "# X_final_val, y_final_val = feat_extract(samples_val_distributed), sample_val_actions_distributed\n",
    "pca = PCA(n_components = 0.95)\n",
    "\n",
    "# Prepare data for neural network\n",
    "X_final_train_pca = pca.fit_transform(X_final_train)\n",
    "# X_final_val_pca = pca.transform(X_final_val)\n",
    "y_one_hot_final_train = one_hot_encoding(y_final_train)\n",
    "# y_one_hot_final_val = one_hot_encoding(y_final_val)\n",
    "\n",
    "# # Neural network settings\n",
    "learning_rate = 0.01\n",
    "n_neurons = 10\n",
    "n_hidden = 2\n",
    "epochs = 50\n",
    "early_stopping = keras.callbacks.EarlyStopping(patience=8)\n",
    "nn_final = neural_network()\n",
    "nn_final.fit(X_final_train_pca, y_one_hot_final_train, validation_split=validation_split, epochs=epochs, batch_size=batch_size,callbacks=[early_stopping])\n",
    "\n",
    "# y_val_pred = nn_final.predict(y_final_val)\n",
    "# y_final_pred = np.argmax(y_val_pred, axis=0)\n",
    "\n",
    "# print(y_val_pred)\n",
    "# print(y_val_pred.shape)\n",
    "# print(y_final_val)\n",
    "# print(y_final_val.shape)\n",
    "\n",
    "# Score metrics\n",
    "# accuracy = sklearn.metrics.accuracy_score(y_final_val, y_val_pred) \n",
    "# f1score = f1_score(y_final_val, y_val_pred, average='macro')\n",
    "# print(f1score)"
   ]
  },
  {
   "cell_type": "markdown",
   "id": "0578f514",
   "metadata": {},
   "source": [
    "### Save and Load"
   ]
  },
  {
   "cell_type": "code",
   "execution_count": 54,
   "id": "a8c24d95",
   "metadata": {},
   "outputs": [
    {
     "ename": "AttributeError",
     "evalue": "'str' object has no attribute 'decode'",
     "output_type": "error",
     "traceback": [
      "\u001b[1;31m---------------------------------------------------------------------------\u001b[0m",
      "\u001b[1;31mAttributeError\u001b[0m                            Traceback (most recent call last)",
      "\u001b[1;32m<ipython-input-54-89e9f2389d40>\u001b[0m in \u001b[0;36m<module>\u001b[1;34m\u001b[0m\n\u001b[0;32m      1\u001b[0m \u001b[1;32mfrom\u001b[0m \u001b[0mtensorflow\u001b[0m\u001b[1;33m.\u001b[0m\u001b[0mkeras\u001b[0m\u001b[1;33m.\u001b[0m\u001b[0mmodels\u001b[0m \u001b[1;32mimport\u001b[0m \u001b[0mload_model\u001b[0m\u001b[1;33m\u001b[0m\u001b[1;33m\u001b[0m\u001b[0m\n\u001b[1;32m----> 2\u001b[1;33m \u001b[0mnn_final\u001b[0m \u001b[1;33m=\u001b[0m \u001b[0mload_model\u001b[0m\u001b[1;33m(\u001b[0m\u001b[1;34m'final_neural_network_model.h5'\u001b[0m\u001b[1;33m)\u001b[0m\u001b[1;33m\u001b[0m\u001b[1;33m\u001b[0m\u001b[0m\n\u001b[0m\u001b[0;32m      3\u001b[0m \u001b[1;31m# nn_final.save(r'C:\\Users\\jobmu\\OneDrive\\Documenten\\final_neural_network_model.h5')\u001b[0m\u001b[1;33m\u001b[0m\u001b[1;33m\u001b[0m\u001b[1;33m\u001b[0m\u001b[0m\n",
      "\u001b[1;32m~\\Miniconda3\\envs\\tf2\\lib\\site-packages\\tensorflow\\python\\keras\\saving\\save.py\u001b[0m in \u001b[0;36mload_model\u001b[1;34m(filepath, custom_objects, compile)\u001b[0m\n\u001b[0;32m    144\u001b[0m       h5py is not None and (\n\u001b[0;32m    145\u001b[0m           isinstance(filepath, h5py.File) or h5py.is_hdf5(filepath))):\n\u001b[1;32m--> 146\u001b[1;33m     \u001b[1;32mreturn\u001b[0m \u001b[0mhdf5_format\u001b[0m\u001b[1;33m.\u001b[0m\u001b[0mload_model_from_hdf5\u001b[0m\u001b[1;33m(\u001b[0m\u001b[0mfilepath\u001b[0m\u001b[1;33m,\u001b[0m \u001b[0mcustom_objects\u001b[0m\u001b[1;33m,\u001b[0m \u001b[0mcompile\u001b[0m\u001b[1;33m)\u001b[0m\u001b[1;33m\u001b[0m\u001b[1;33m\u001b[0m\u001b[0m\n\u001b[0m\u001b[0;32m    147\u001b[0m \u001b[1;33m\u001b[0m\u001b[0m\n\u001b[0;32m    148\u001b[0m   \u001b[1;32mif\u001b[0m \u001b[0misinstance\u001b[0m\u001b[1;33m(\u001b[0m\u001b[0mfilepath\u001b[0m\u001b[1;33m,\u001b[0m \u001b[0msix\u001b[0m\u001b[1;33m.\u001b[0m\u001b[0mstring_types\u001b[0m\u001b[1;33m)\u001b[0m\u001b[1;33m:\u001b[0m\u001b[1;33m\u001b[0m\u001b[1;33m\u001b[0m\u001b[0m\n",
      "\u001b[1;32m~\\Miniconda3\\envs\\tf2\\lib\\site-packages\\tensorflow\\python\\keras\\saving\\hdf5_format.py\u001b[0m in \u001b[0;36mload_model_from_hdf5\u001b[1;34m(filepath, custom_objects, compile)\u001b[0m\n\u001b[0;32m    208\u001b[0m     \u001b[1;32mif\u001b[0m \u001b[0mmodel_config\u001b[0m \u001b[1;32mis\u001b[0m \u001b[1;32mNone\u001b[0m\u001b[1;33m:\u001b[0m\u001b[1;33m\u001b[0m\u001b[1;33m\u001b[0m\u001b[0m\n\u001b[0;32m    209\u001b[0m       \u001b[1;32mraise\u001b[0m \u001b[0mValueError\u001b[0m\u001b[1;33m(\u001b[0m\u001b[1;34m'No model found in config file.'\u001b[0m\u001b[1;33m)\u001b[0m\u001b[1;33m\u001b[0m\u001b[1;33m\u001b[0m\u001b[0m\n\u001b[1;32m--> 210\u001b[1;33m     \u001b[0mmodel_config\u001b[0m \u001b[1;33m=\u001b[0m \u001b[0mjson\u001b[0m\u001b[1;33m.\u001b[0m\u001b[0mloads\u001b[0m\u001b[1;33m(\u001b[0m\u001b[0mmodel_config\u001b[0m\u001b[1;33m.\u001b[0m\u001b[0mdecode\u001b[0m\u001b[1;33m(\u001b[0m\u001b[1;34m'utf-8'\u001b[0m\u001b[1;33m)\u001b[0m\u001b[1;33m)\u001b[0m\u001b[1;33m\u001b[0m\u001b[1;33m\u001b[0m\u001b[0m\n\u001b[0m\u001b[0;32m    211\u001b[0m     model = model_config_lib.model_from_config(model_config,\n\u001b[0;32m    212\u001b[0m                                                custom_objects=custom_objects)\n",
      "\u001b[1;31mAttributeError\u001b[0m: 'str' object has no attribute 'decode'"
     ]
    }
   ],
   "source": [
    "from tensorflow.keras.models import load_model\n",
    "# nn_final = load_model('final_neural_network_model.h5')\n",
    "nn_final.save(r'C:\\Users\\jobmu\\OneDrive\\Documenten\\final_neural_network_model.h5')\n"
   ]
  },
  {
   "cell_type": "markdown",
   "id": "b52b5093",
   "metadata": {},
   "source": [
    "---\n",
    "\n",
    "# 5. Present Your Solution (5 points)\n",
    "1. Summarize your main decisions and insights\n",
    "2. Create a stand-alone demo. I.e., a block of cells that can be run on its own. For that you will need to load your pre-trained best model you saved in the previous section and run it on a Neptune track.\n"
   ]
  },
  {
   "cell_type": "markdown",
   "id": "0c3a583d",
   "metadata": {},
   "source": [
    "### Conclusion and insights\n",
    "\n",
    "For the final model we decided to train a neural network for a good performance of the racing car. The performance at the beginning was poor so we started to optimize the neural network. After a lot of iterations we figured out that even though the accuracy did not improve, had a better performance on the track. Also the f1 score did not always indicate a good performance of the track. The methodology of filtering out the background color which indicates the planet did not work out as we expected. Even though the racing car performs well on earth, mars and saturn, the performance on neptune is very poor. Although the performance of our model is not the best, the assignment gave us insights of how to and how not to build a model for such tasks.\n",
    "There are a lot of insights we had this practicum. We spent multiple days from 9am to 12pm to perform iterations trying to improve the metrics. After some time we found out that the f1 score an accuracy did not immediately improve the performance of the racing car. We figured out that one of the most important steps of building a model is the preprocessing of the data. \n",
    "\n",
    "The performance on earth, mars and saturn were good. However, the performance on neptune was very poor. This means we probably overfitted the model on the data. What would have been better was, besides training the model on the earth data, to validate the model on only one unknown planet and perform the test on the last unknown planet. In this way, the f1 score and the accuracy tells much more about the performance of the model which could result in a better performance on neptune. Since we ran out of time, we could not implement this insight on time. "
   ]
  },
  {
   "cell_type": "code",
   "execution_count": 57,
   "id": "3afe5d09",
   "metadata": {},
   "outputs": [],
   "source": [
    "import random \n",
    "def f_policy_neural_network(observation):\n",
    "    observation = feature_vector_final(observation)\n",
    "    observation = pca.transform(observation)\n",
    "    action = np.argmax(nn_final.predict(observation))\n",
    "    \n",
    "    print(f'Received observation: {observation.shape} numpy array of type {observation.dtype}, returning action {action}')\n",
    "    return action"
   ]
  },
  {
   "cell_type": "code",
   "execution_count": 59,
   "id": "b6d6e29f",
   "metadata": {
    "scrolled": true
   },
   "outputs": [
    {
     "name": "stdout",
     "output_type": "stream",
     "text": [
      "Starting simulation for 500 iterations.\n",
      "*** Press ESC key in popup window to stop the simulation! ***\n",
      "\n",
      "Track generation: 1216..1525 -> 309-tiles track\n",
      "Received observation: (1, 759) numpy array of type float64, returning action 1\n"
     ]
    },
    {
     "name": "stderr",
     "output_type": "stream",
     "text": [
      "C:\\Users\\jobmu\\Miniconda3\\envs\\tf2\\lib\\site-packages\\gym\\logger.py:30: UserWarning: \u001b[33mWARN: Box bound precision lowered by casting to float32\u001b[0m\n",
      "  warnings.warn(colorize('%s: %s'%('WARN', msg % args), 'yellow'))\n"
     ]
    },
    {
     "name": "stdout",
     "output_type": "stream",
     "text": [
      "Received observation: (1, 759) numpy array of type float64, returning action 1\n",
      "Received observation: (1, 759) numpy array of type float64, returning action 1\n",
      "Received observation: (1, 759) numpy array of type float64, returning action 1\n",
      "Received observation: (1, 759) numpy array of type float64, returning action 1\n",
      "Received observation: (1, 759) numpy array of type float64, returning action 1\n",
      "Received observation: (1, 759) numpy array of type float64, returning action 1\n",
      "Received observation: (1, 759) numpy array of type float64, returning action 1\n",
      "Received observation: (1, 759) numpy array of type float64, returning action 1\n",
      "Received observation: (1, 759) numpy array of type float64, returning action 1\n",
      "Received observation: (1, 759) numpy array of type float64, returning action 1\n",
      "Received observation: (1, 759) numpy array of type float64, returning action 1\n",
      "Received observation: (1, 759) numpy array of type float64, returning action 1\n",
      "Received observation: (1, 759) numpy array of type float64, returning action 1\n",
      "Received observation: (1, 759) numpy array of type float64, returning action 1\n",
      "Received observation: (1, 759) numpy array of type float64, returning action 1\n",
      "Received observation: (1, 759) numpy array of type float64, returning action 1\n",
      "Received observation: (1, 759) numpy array of type float64, returning action 1\n",
      "Received observation: (1, 759) numpy array of type float64, returning action 1\n",
      "Received observation: (1, 759) numpy array of type float64, returning action 1\n",
      "Received observation: (1, 759) numpy array of type float64, returning action 1\n",
      "Received observation: (1, 759) numpy array of type float64, returning action 1\n",
      "Received observation: (1, 759) numpy array of type float64, returning action 1\n",
      "Received observation: (1, 759) numpy array of type float64, returning action 1\n",
      "Received observation: (1, 759) numpy array of type float64, returning action 1\n",
      "Received observation: (1, 759) numpy array of type float64, returning action 1\n",
      "Received observation: (1, 759) numpy array of type float64, returning action 1\n",
      "Received observation: (1, 759) numpy array of type float64, returning action 1\n",
      "Received observation: (1, 759) numpy array of type float64, returning action 1\n",
      "Received observation: (1, 759) numpy array of type float64, returning action 1\n",
      "Received observation: (1, 759) numpy array of type float64, returning action 1\n",
      "Received observation: (1, 759) numpy array of type float64, returning action 1\n",
      "Received observation: (1, 759) numpy array of type float64, returning action 1\n",
      "Received observation: (1, 759) numpy array of type float64, returning action 1\n",
      "Received observation: (1, 759) numpy array of type float64, returning action 1\n",
      "Received observation: (1, 759) numpy array of type float64, returning action 1\n",
      "Received observation: (1, 759) numpy array of type float64, returning action 1\n",
      "Received observation: (1, 759) numpy array of type float64, returning action 1\n",
      "Received observation: (1, 759) numpy array of type float64, returning action 1\n",
      "Received observation: (1, 759) numpy array of type float64, returning action 1\n",
      "Received observation: (1, 759) numpy array of type float64, returning action 1\n",
      "Received observation: (1, 759) numpy array of type float64, returning action 1\n",
      "Received observation: (1, 759) numpy array of type float64, returning action 0\n",
      "Received observation: (1, 759) numpy array of type float64, returning action 0\n",
      "Received observation: (1, 759) numpy array of type float64, returning action 0\n",
      "Received observation: (1, 759) numpy array of type float64, returning action 0\n",
      "Received observation: (1, 759) numpy array of type float64, returning action 0\n",
      "Received observation: (1, 759) numpy array of type float64, returning action 2\n",
      "Received observation: (1, 759) numpy array of type float64, returning action 2\n",
      "Received observation: (1, 759) numpy array of type float64, returning action 2\n",
      "Received observation: (1, 759) numpy array of type float64, returning action 2\n",
      "Received observation: (1, 759) numpy array of type float64, returning action 2\n",
      "Received observation: (1, 759) numpy array of type float64, returning action 2\n",
      "Received observation: (1, 759) numpy array of type float64, returning action 2\n",
      "Received observation: (1, 759) numpy array of type float64, returning action 2\n",
      "Received observation: (1, 759) numpy array of type float64, returning action 2\n",
      "Received observation: (1, 759) numpy array of type float64, returning action 2\n",
      "Received observation: (1, 759) numpy array of type float64, returning action 2\n",
      "Received observation: (1, 759) numpy array of type float64, returning action 2\n",
      "Received observation: (1, 759) numpy array of type float64, returning action 2\n",
      "Received observation: (1, 759) numpy array of type float64, returning action 2\n",
      "Received observation: (1, 759) numpy array of type float64, returning action 2\n",
      "Received observation: (1, 759) numpy array of type float64, returning action 2\n",
      "Received observation: (1, 759) numpy array of type float64, returning action 0\n",
      "Received observation: (1, 759) numpy array of type float64, returning action 0\n",
      "Received observation: (1, 759) numpy array of type float64, returning action 0\n",
      "Received observation: (1, 759) numpy array of type float64, returning action 0\n",
      "Received observation: (1, 759) numpy array of type float64, returning action 0\n",
      "Received observation: (1, 759) numpy array of type float64, returning action 1\n",
      "Received observation: (1, 759) numpy array of type float64, returning action 1\n",
      "Received observation: (1, 759) numpy array of type float64, returning action 1\n",
      "Received observation: (1, 759) numpy array of type float64, returning action 1\n",
      "Received observation: (1, 759) numpy array of type float64, returning action 1\n",
      "Received observation: (1, 759) numpy array of type float64, returning action 1\n",
      "Received observation: (1, 759) numpy array of type float64, returning action 0\n",
      "Received observation: (1, 759) numpy array of type float64, returning action 0\n",
      "Received observation: (1, 759) numpy array of type float64, returning action 0\n",
      "Received observation: (1, 759) numpy array of type float64, returning action 0\n",
      "Received observation: (1, 759) numpy array of type float64, returning action 0\n",
      "Received observation: (1, 759) numpy array of type float64, returning action 0\n",
      "Received observation: (1, 759) numpy array of type float64, returning action 0\n",
      "Received observation: (1, 759) numpy array of type float64, returning action 0\n",
      "Received observation: (1, 759) numpy array of type float64, returning action 0\n",
      "Received observation: (1, 759) numpy array of type float64, returning action 0\n",
      "Received observation: (1, 759) numpy array of type float64, returning action 0\n",
      "Received observation: (1, 759) numpy array of type float64, returning action 0\n",
      "Received observation: (1, 759) numpy array of type float64, returning action 0\n",
      "Received observation: (1, 759) numpy array of type float64, returning action 0\n",
      "Received observation: (1, 759) numpy array of type float64, returning action 0\n",
      "Received observation: (1, 759) numpy array of type float64, returning action 0\n",
      "Received observation: (1, 759) numpy array of type float64, returning action 0\n",
      "Received observation: (1, 759) numpy array of type float64, returning action 1\n",
      "Received observation: (1, 759) numpy array of type float64, returning action 1\n",
      "Received observation: (1, 759) numpy array of type float64, returning action 0\n",
      "Received observation: (1, 759) numpy array of type float64, returning action 1\n",
      "Received observation: (1, 759) numpy array of type float64, returning action 1\n",
      "Received observation: (1, 759) numpy array of type float64, returning action 1\n",
      "Received observation: (1, 759) numpy array of type float64, returning action 1\n",
      "Received observation: (1, 759) numpy array of type float64, returning action 1\n",
      "Received observation: (1, 759) numpy array of type float64, returning action 1\n",
      "Received observation: (1, 759) numpy array of type float64, returning action 1\n",
      "Received observation: (1, 759) numpy array of type float64, returning action 1\n",
      "Received observation: (1, 759) numpy array of type float64, returning action 1\n",
      "Received observation: (1, 759) numpy array of type float64, returning action 1\n",
      "Received observation: (1, 759) numpy array of type float64, returning action 1\n",
      "Received observation: (1, 759) numpy array of type float64, returning action 1\n"
     ]
    },
    {
     "name": "stdout",
     "output_type": "stream",
     "text": [
      "Received observation: (1, 759) numpy array of type float64, returning action 1\n",
      "Received observation: (1, 759) numpy array of type float64, returning action 1\n",
      "Received observation: (1, 759) numpy array of type float64, returning action 1\n",
      "Received observation: (1, 759) numpy array of type float64, returning action 1\n",
      "Received observation: (1, 759) numpy array of type float64, returning action 1\n",
      "Received observation: (1, 759) numpy array of type float64, returning action 1\n",
      "Received observation: (1, 759) numpy array of type float64, returning action 1\n",
      "Received observation: (1, 759) numpy array of type float64, returning action 1\n",
      "Received observation: (1, 759) numpy array of type float64, returning action 1\n",
      "Received observation: (1, 759) numpy array of type float64, returning action 1\n",
      "Received observation: (1, 759) numpy array of type float64, returning action 1\n",
      "Received observation: (1, 759) numpy array of type float64, returning action 1\n",
      "Received observation: (1, 759) numpy array of type float64, returning action 1\n",
      "Received observation: (1, 759) numpy array of type float64, returning action 1\n",
      "Received observation: (1, 759) numpy array of type float64, returning action 0\n",
      "Received observation: (1, 759) numpy array of type float64, returning action 0\n",
      "Received observation: (1, 759) numpy array of type float64, returning action 1\n",
      "Received observation: (1, 759) numpy array of type float64, returning action 0\n",
      "Received observation: (1, 759) numpy array of type float64, returning action 0\n",
      "Received observation: (1, 759) numpy array of type float64, returning action 0\n",
      "Received observation: (1, 759) numpy array of type float64, returning action 0\n",
      "Received observation: (1, 759) numpy array of type float64, returning action 0\n",
      "Received observation: (1, 759) numpy array of type float64, returning action 0\n",
      "Received observation: (1, 759) numpy array of type float64, returning action 0\n",
      "Received observation: (1, 759) numpy array of type float64, returning action 0\n",
      "Received observation: (1, 759) numpy array of type float64, returning action 0\n",
      "Received observation: (1, 759) numpy array of type float64, returning action 0\n",
      "Received observation: (1, 759) numpy array of type float64, returning action 0\n",
      "Received observation: (1, 759) numpy array of type float64, returning action 0\n",
      "Received observation: (1, 759) numpy array of type float64, returning action 1\n",
      "Received observation: (1, 759) numpy array of type float64, returning action 0\n",
      "Received observation: (1, 759) numpy array of type float64, returning action 0\n",
      "Received observation: (1, 759) numpy array of type float64, returning action 0\n",
      "Received observation: (1, 759) numpy array of type float64, returning action 0\n",
      "Received observation: (1, 759) numpy array of type float64, returning action 0\n",
      "Received observation: (1, 759) numpy array of type float64, returning action 0\n",
      "Received observation: (1, 759) numpy array of type float64, returning action 0\n",
      "Received observation: (1, 759) numpy array of type float64, returning action 0\n",
      "Received observation: (1, 759) numpy array of type float64, returning action 0\n",
      "Received observation: (1, 759) numpy array of type float64, returning action 0\n",
      "Received observation: (1, 759) numpy array of type float64, returning action 0\n",
      "Received observation: (1, 759) numpy array of type float64, returning action 0\n",
      "Received observation: (1, 759) numpy array of type float64, returning action 0\n",
      "Received observation: (1, 759) numpy array of type float64, returning action 0\n",
      "Received observation: (1, 759) numpy array of type float64, returning action 0\n",
      "Received observation: (1, 759) numpy array of type float64, returning action 0\n",
      "Received observation: (1, 759) numpy array of type float64, returning action 0\n",
      "Received observation: (1, 759) numpy array of type float64, returning action 0\n",
      "Received observation: (1, 759) numpy array of type float64, returning action 0\n",
      "Received observation: (1, 759) numpy array of type float64, returning action 0\n",
      "Received observation: (1, 759) numpy array of type float64, returning action 0\n",
      "Received observation: (1, 759) numpy array of type float64, returning action 0\n",
      "Received observation: (1, 759) numpy array of type float64, returning action 0\n",
      "Received observation: (1, 759) numpy array of type float64, returning action 0\n",
      "Received observation: (1, 759) numpy array of type float64, returning action 0\n",
      "Received observation: (1, 759) numpy array of type float64, returning action 0\n",
      "Received observation: (1, 759) numpy array of type float64, returning action 0\n",
      "Received observation: (1, 759) numpy array of type float64, returning action 0\n",
      "Received observation: (1, 759) numpy array of type float64, returning action 0\n",
      "Received observation: (1, 759) numpy array of type float64, returning action 0\n",
      "Received observation: (1, 759) numpy array of type float64, returning action 0\n",
      "Received observation: (1, 759) numpy array of type float64, returning action 0\n",
      "Received observation: (1, 759) numpy array of type float64, returning action 0\n",
      "Received observation: (1, 759) numpy array of type float64, returning action 0\n",
      "Received observation: (1, 759) numpy array of type float64, returning action 0\n",
      "Received observation: (1, 759) numpy array of type float64, returning action 0\n",
      "Received observation: (1, 759) numpy array of type float64, returning action 0\n",
      "Received observation: (1, 759) numpy array of type float64, returning action 0\n",
      "Received observation: (1, 759) numpy array of type float64, returning action 0\n",
      "Received observation: (1, 759) numpy array of type float64, returning action 0\n",
      "Received observation: (1, 759) numpy array of type float64, returning action 0\n",
      "Received observation: (1, 759) numpy array of type float64, returning action 0\n",
      "Received observation: (1, 759) numpy array of type float64, returning action 0\n",
      "Received observation: (1, 759) numpy array of type float64, returning action 0\n",
      "Received observation: (1, 759) numpy array of type float64, returning action 0\n",
      "Received observation: (1, 759) numpy array of type float64, returning action 0\n",
      "Received observation: (1, 759) numpy array of type float64, returning action 0\n",
      "Received observation: (1, 759) numpy array of type float64, returning action 0\n",
      "Received observation: (1, 759) numpy array of type float64, returning action 0\n",
      "Received observation: (1, 759) numpy array of type float64, returning action 0\n",
      "Received observation: (1, 759) numpy array of type float64, returning action 0\n",
      "Received observation: (1, 759) numpy array of type float64, returning action 0\n",
      "Received observation: (1, 759) numpy array of type float64, returning action 0\n",
      "Received observation: (1, 759) numpy array of type float64, returning action 0\n",
      "Received observation: (1, 759) numpy array of type float64, returning action 0\n",
      "Received observation: (1, 759) numpy array of type float64, returning action 0\n",
      "Received observation: (1, 759) numpy array of type float64, returning action 0\n",
      "Received observation: (1, 759) numpy array of type float64, returning action 0\n",
      "Received observation: (1, 759) numpy array of type float64, returning action 0\n",
      "Received observation: (1, 759) numpy array of type float64, returning action 0\n",
      "Received observation: (1, 759) numpy array of type float64, returning action 0\n",
      "Received observation: (1, 759) numpy array of type float64, returning action 0\n",
      "Received observation: (1, 759) numpy array of type float64, returning action 0\n",
      "Received observation: (1, 759) numpy array of type float64, returning action 0\n",
      "Received observation: (1, 759) numpy array of type float64, returning action 0\n",
      "Received observation: (1, 759) numpy array of type float64, returning action 0\n",
      "Received observation: (1, 759) numpy array of type float64, returning action 0\n",
      "Received observation: (1, 759) numpy array of type float64, returning action 0\n",
      "Received observation: (1, 759) numpy array of type float64, returning action 0\n",
      "Received observation: (1, 759) numpy array of type float64, returning action 0\n",
      "Received observation: (1, 759) numpy array of type float64, returning action 0\n",
      "Received observation: (1, 759) numpy array of type float64, returning action 0\n",
      "Received observation: (1, 759) numpy array of type float64, returning action 0\n",
      "Received observation: (1, 759) numpy array of type float64, returning action 0\n",
      "Received observation: (1, 759) numpy array of type float64, returning action 0\n",
      "Received observation: (1, 759) numpy array of type float64, returning action 0\n"
     ]
    },
    {
     "name": "stdout",
     "output_type": "stream",
     "text": [
      "Received observation: (1, 759) numpy array of type float64, returning action 0\n",
      "Received observation: (1, 759) numpy array of type float64, returning action 3\n",
      "Received observation: (1, 759) numpy array of type float64, returning action 3\n",
      "Received observation: (1, 759) numpy array of type float64, returning action 3\n",
      "Received observation: (1, 759) numpy array of type float64, returning action 3\n",
      "Received observation: (1, 759) numpy array of type float64, returning action 3\n",
      "Received observation: (1, 759) numpy array of type float64, returning action 3\n",
      "Received observation: (1, 759) numpy array of type float64, returning action 3\n",
      "Received observation: (1, 759) numpy array of type float64, returning action 3\n",
      "Received observation: (1, 759) numpy array of type float64, returning action 3\n",
      "Received observation: (1, 759) numpy array of type float64, returning action 0\n",
      "Received observation: (1, 759) numpy array of type float64, returning action 3\n",
      "Received observation: (1, 759) numpy array of type float64, returning action 3\n",
      "Received observation: (1, 759) numpy array of type float64, returning action 3\n",
      "Received observation: (1, 759) numpy array of type float64, returning action 0\n",
      "Received observation: (1, 759) numpy array of type float64, returning action 3\n",
      "Received observation: (1, 759) numpy array of type float64, returning action 3\n",
      "Received observation: (1, 759) numpy array of type float64, returning action 3\n",
      "Received observation: (1, 759) numpy array of type float64, returning action 3\n",
      "Received observation: (1, 759) numpy array of type float64, returning action 3\n",
      "Received observation: (1, 759) numpy array of type float64, returning action 3\n",
      "Received observation: (1, 759) numpy array of type float64, returning action 3\n",
      "Received observation: (1, 759) numpy array of type float64, returning action 3\n",
      "Received observation: (1, 759) numpy array of type float64, returning action 3\n",
      "Received observation: (1, 759) numpy array of type float64, returning action 3\n",
      "Received observation: (1, 759) numpy array of type float64, returning action 3\n",
      "Received observation: (1, 759) numpy array of type float64, returning action 0\n",
      "Received observation: (1, 759) numpy array of type float64, returning action 0\n",
      "Received observation: (1, 759) numpy array of type float64, returning action 3\n",
      "Received observation: (1, 759) numpy array of type float64, returning action 0\n",
      "Received observation: (1, 759) numpy array of type float64, returning action 0\n",
      "Received observation: (1, 759) numpy array of type float64, returning action 0\n",
      "Received observation: (1, 759) numpy array of type float64, returning action 0\n",
      "Received observation: (1, 759) numpy array of type float64, returning action 0\n",
      "Received observation: (1, 759) numpy array of type float64, returning action 0\n",
      "Received observation: (1, 759) numpy array of type float64, returning action 1\n",
      "Received observation: (1, 759) numpy array of type float64, returning action 0\n",
      "Received observation: (1, 759) numpy array of type float64, returning action 0\n",
      "Received observation: (1, 759) numpy array of type float64, returning action 0\n",
      "Received observation: (1, 759) numpy array of type float64, returning action 0\n",
      "Received observation: (1, 759) numpy array of type float64, returning action 1\n",
      "Received observation: (1, 759) numpy array of type float64, returning action 0\n",
      "Received observation: (1, 759) numpy array of type float64, returning action 0\n",
      "Received observation: (1, 759) numpy array of type float64, returning action 0\n",
      "Received observation: (1, 759) numpy array of type float64, returning action 0\n",
      "Received observation: (1, 759) numpy array of type float64, returning action 0\n",
      "Received observation: (1, 759) numpy array of type float64, returning action 0\n",
      "Received observation: (1, 759) numpy array of type float64, returning action 0\n",
      "Received observation: (1, 759) numpy array of type float64, returning action 0\n",
      "Received observation: (1, 759) numpy array of type float64, returning action 0\n",
      "Received observation: (1, 759) numpy array of type float64, returning action 2\n",
      "Received observation: (1, 759) numpy array of type float64, returning action 2\n",
      "Received observation: (1, 759) numpy array of type float64, returning action 2\n",
      "Received observation: (1, 759) numpy array of type float64, returning action 2\n",
      "Received observation: (1, 759) numpy array of type float64, returning action 2\n",
      "Received observation: (1, 759) numpy array of type float64, returning action 2\n",
      "Received observation: (1, 759) numpy array of type float64, returning action 2\n",
      "Received observation: (1, 759) numpy array of type float64, returning action 2\n",
      "Received observation: (1, 759) numpy array of type float64, returning action 2\n",
      "Received observation: (1, 759) numpy array of type float64, returning action 2\n",
      "Received observation: (1, 759) numpy array of type float64, returning action 2\n",
      "Received observation: (1, 759) numpy array of type float64, returning action 2\n",
      "Received observation: (1, 759) numpy array of type float64, returning action 2\n",
      "Received observation: (1, 759) numpy array of type float64, returning action 0\n",
      "Received observation: (1, 759) numpy array of type float64, returning action 2\n",
      "Received observation: (1, 759) numpy array of type float64, returning action 2\n",
      "Received observation: (1, 759) numpy array of type float64, returning action 2\n",
      "Received observation: (1, 759) numpy array of type float64, returning action 2\n",
      "Received observation: (1, 759) numpy array of type float64, returning action 2\n",
      "Received observation: (1, 759) numpy array of type float64, returning action 2\n",
      "Received observation: (1, 759) numpy array of type float64, returning action 2\n",
      "Received observation: (1, 759) numpy array of type float64, returning action 2\n",
      "Received observation: (1, 759) numpy array of type float64, returning action 2\n",
      "Received observation: (1, 759) numpy array of type float64, returning action 2\n",
      "Received observation: (1, 759) numpy array of type float64, returning action 2\n",
      "Received observation: (1, 759) numpy array of type float64, returning action 2\n",
      "Received observation: (1, 759) numpy array of type float64, returning action 2\n",
      "Received observation: (1, 759) numpy array of type float64, returning action 2\n",
      "Received observation: (1, 759) numpy array of type float64, returning action 0\n",
      "Received observation: (1, 759) numpy array of type float64, returning action 0\n",
      "Received observation: (1, 759) numpy array of type float64, returning action 1\n",
      "Received observation: (1, 759) numpy array of type float64, returning action 1\n",
      "Received observation: (1, 759) numpy array of type float64, returning action 0\n",
      "Received observation: (1, 759) numpy array of type float64, returning action 0\n",
      "Received observation: (1, 759) numpy array of type float64, returning action 0\n",
      "Received observation: (1, 759) numpy array of type float64, returning action 0\n",
      "Received observation: (1, 759) numpy array of type float64, returning action 0\n",
      "Received observation: (1, 759) numpy array of type float64, returning action 3\n",
      "Received observation: (1, 759) numpy array of type float64, returning action 0\n",
      "Received observation: (1, 759) numpy array of type float64, returning action 3\n",
      "Received observation: (1, 759) numpy array of type float64, returning action 3\n",
      "Received observation: (1, 759) numpy array of type float64, returning action 3\n",
      "Received observation: (1, 759) numpy array of type float64, returning action 3\n",
      "Received observation: (1, 759) numpy array of type float64, returning action 0\n",
      "Received observation: (1, 759) numpy array of type float64, returning action 3\n",
      "Received observation: (1, 759) numpy array of type float64, returning action 3\n",
      "Received observation: (1, 759) numpy array of type float64, returning action 0\n",
      "Received observation: (1, 759) numpy array of type float64, returning action 0\n",
      "Received observation: (1, 759) numpy array of type float64, returning action 3\n",
      "Received observation: (1, 759) numpy array of type float64, returning action 0\n",
      "Received observation: (1, 759) numpy array of type float64, returning action 0\n",
      "Received observation: (1, 759) numpy array of type float64, returning action 3\n",
      "Received observation: (1, 759) numpy array of type float64, returning action 0\n",
      "Received observation: (1, 759) numpy array of type float64, returning action 0\n",
      "Received observation: (1, 759) numpy array of type float64, returning action 0\n",
      "Received observation: (1, 759) numpy array of type float64, returning action 0\n",
      "Received observation: (1, 759) numpy array of type float64, returning action 0\n"
     ]
    },
    {
     "name": "stdout",
     "output_type": "stream",
     "text": [
      "Received observation: (1, 759) numpy array of type float64, returning action 0\n",
      "Received observation: (1, 759) numpy array of type float64, returning action 0\n",
      "Received observation: (1, 759) numpy array of type float64, returning action 0\n",
      "Received observation: (1, 759) numpy array of type float64, returning action 0\n",
      "Received observation: (1, 759) numpy array of type float64, returning action 0\n",
      "Received observation: (1, 759) numpy array of type float64, returning action 0\n",
      "Received observation: (1, 759) numpy array of type float64, returning action 0\n",
      "Received observation: (1, 759) numpy array of type float64, returning action 0\n",
      "Received observation: (1, 759) numpy array of type float64, returning action 2\n",
      "Received observation: (1, 759) numpy array of type float64, returning action 0\n",
      "Received observation: (1, 759) numpy array of type float64, returning action 2\n",
      "Received observation: (1, 759) numpy array of type float64, returning action 2\n",
      "Received observation: (1, 759) numpy array of type float64, returning action 0\n",
      "Received observation: (1, 759) numpy array of type float64, returning action 0\n",
      "Received observation: (1, 759) numpy array of type float64, returning action 2\n",
      "Received observation: (1, 759) numpy array of type float64, returning action 2\n",
      "Received observation: (1, 759) numpy array of type float64, returning action 2\n",
      "Received observation: (1, 759) numpy array of type float64, returning action 2\n",
      "Received observation: (1, 759) numpy array of type float64, returning action 2\n",
      "Received observation: (1, 759) numpy array of type float64, returning action 2\n",
      "Received observation: (1, 759) numpy array of type float64, returning action 2\n",
      "Received observation: (1, 759) numpy array of type float64, returning action 2\n",
      "Received observation: (1, 759) numpy array of type float64, returning action 2\n",
      "Received observation: (1, 759) numpy array of type float64, returning action 2\n",
      "Received observation: (1, 759) numpy array of type float64, returning action 2\n",
      "Received observation: (1, 759) numpy array of type float64, returning action 2\n",
      "Received observation: (1, 759) numpy array of type float64, returning action 2\n",
      "Received observation: (1, 759) numpy array of type float64, returning action 2\n",
      "Received observation: (1, 759) numpy array of type float64, returning action 2\n",
      "Received observation: (1, 759) numpy array of type float64, returning action 2\n",
      "Received observation: (1, 759) numpy array of type float64, returning action 2\n",
      "Received observation: (1, 759) numpy array of type float64, returning action 2\n",
      "Received observation: (1, 759) numpy array of type float64, returning action 2\n",
      "Received observation: (1, 759) numpy array of type float64, returning action 2\n",
      "Received observation: (1, 759) numpy array of type float64, returning action 2\n",
      "Received observation: (1, 759) numpy array of type float64, returning action 2\n",
      "Received observation: (1, 759) numpy array of type float64, returning action 2\n",
      "Received observation: (1, 759) numpy array of type float64, returning action 2\n",
      "Received observation: (1, 759) numpy array of type float64, returning action 2\n",
      "Received observation: (1, 759) numpy array of type float64, returning action 2\n",
      "Received observation: (1, 759) numpy array of type float64, returning action 2\n",
      "Received observation: (1, 759) numpy array of type float64, returning action 2\n",
      "Received observation: (1, 759) numpy array of type float64, returning action 2\n",
      "Received observation: (1, 759) numpy array of type float64, returning action 2\n",
      "Received observation: (1, 759) numpy array of type float64, returning action 2\n",
      "Received observation: (1, 759) numpy array of type float64, returning action 2\n",
      "Received observation: (1, 759) numpy array of type float64, returning action 2\n",
      "Received observation: (1, 759) numpy array of type float64, returning action 2\n",
      "Received observation: (1, 759) numpy array of type float64, returning action 2\n",
      "Received observation: (1, 759) numpy array of type float64, returning action 2\n",
      "Received observation: (1, 759) numpy array of type float64, returning action 2\n",
      "Received observation: (1, 759) numpy array of type float64, returning action 2\n",
      "Received observation: (1, 759) numpy array of type float64, returning action 2\n",
      "Received observation: (1, 759) numpy array of type float64, returning action 2\n",
      "Received observation: (1, 759) numpy array of type float64, returning action 0\n",
      "Received observation: (1, 759) numpy array of type float64, returning action 0\n",
      "Received observation: (1, 759) numpy array of type float64, returning action 0\n",
      "Received observation: (1, 759) numpy array of type float64, returning action 2\n",
      "Received observation: (1, 759) numpy array of type float64, returning action 2\n",
      "Received observation: (1, 759) numpy array of type float64, returning action 0\n",
      "Received observation: (1, 759) numpy array of type float64, returning action 0\n",
      "Received observation: (1, 759) numpy array of type float64, returning action 0\n",
      "Received observation: (1, 759) numpy array of type float64, returning action 0\n",
      "Received observation: (1, 759) numpy array of type float64, returning action 0\n",
      "Received observation: (1, 759) numpy array of type float64, returning action 0\n",
      "Received observation: (1, 759) numpy array of type float64, returning action 3\n",
      "Received observation: (1, 759) numpy array of type float64, returning action 3\n",
      "Received observation: (1, 759) numpy array of type float64, returning action 0\n",
      "Received observation: (1, 759) numpy array of type float64, returning action 0\n",
      "Received observation: (1, 759) numpy array of type float64, returning action 0\n",
      "Received observation: (1, 759) numpy array of type float64, returning action 0\n",
      "Received observation: (1, 759) numpy array of type float64, returning action 3\n",
      "Received observation: (1, 759) numpy array of type float64, returning action 3\n",
      "Received observation: (1, 759) numpy array of type float64, returning action 3\n",
      "Received observation: (1, 759) numpy array of type float64, returning action 3\n",
      "Received observation: (1, 759) numpy array of type float64, returning action 3\n",
      "Received observation: (1, 759) numpy array of type float64, returning action 3\n",
      "Received observation: (1, 759) numpy array of type float64, returning action 3\n",
      "Received observation: (1, 759) numpy array of type float64, returning action 3\n",
      "Received observation: (1, 759) numpy array of type float64, returning action 3\n",
      "Received observation: (1, 759) numpy array of type float64, returning action 3\n",
      "Received observation: (1, 759) numpy array of type float64, returning action 3\n",
      "Received observation: (1, 759) numpy array of type float64, returning action 3\n",
      "Received observation: (1, 759) numpy array of type float64, returning action 3\n",
      "Received observation: (1, 759) numpy array of type float64, returning action 3\n",
      "Received observation: (1, 759) numpy array of type float64, returning action 0\n",
      "Received observation: (1, 759) numpy array of type float64, returning action 2\n",
      "Received observation: (1, 759) numpy array of type float64, returning action 0\n",
      "Received observation: (1, 759) numpy array of type float64, returning action 0\n",
      "Received observation: (1, 759) numpy array of type float64, returning action 0\n",
      "Received observation: (1, 759) numpy array of type float64, returning action 2\n",
      "Received observation: (1, 759) numpy array of type float64, returning action 2\n",
      "Received observation: (1, 759) numpy array of type float64, returning action 2\n",
      "Received observation: (1, 759) numpy array of type float64, returning action 2\n",
      "Received observation: (1, 759) numpy array of type float64, returning action 2\n",
      "Received observation: (1, 759) numpy array of type float64, returning action 0\n",
      "Received observation: (1, 759) numpy array of type float64, returning action 0\n",
      "Received observation: (1, 759) numpy array of type float64, returning action 0\n",
      "Received observation: (1, 759) numpy array of type float64, returning action 3\n",
      "Received observation: (1, 759) numpy array of type float64, returning action 0\n",
      "Received observation: (1, 759) numpy array of type float64, returning action 0\n",
      "Received observation: (1, 759) numpy array of type float64, returning action 3\n",
      "Received observation: (1, 759) numpy array of type float64, returning action 0\n",
      "Received observation: (1, 759) numpy array of type float64, returning action 0\n",
      "Received observation: (1, 759) numpy array of type float64, returning action 3\n",
      "Received observation: (1, 759) numpy array of type float64, returning action 3\n",
      "Received observation: (1, 759) numpy array of type float64, returning action 3\n"
     ]
    },
    {
     "name": "stdout",
     "output_type": "stream",
     "text": [
      "Received observation: (1, 759) numpy array of type float64, returning action 3\n",
      "Received observation: (1, 759) numpy array of type float64, returning action 3\n",
      "Received observation: (1, 759) numpy array of type float64, returning action 3\n",
      "Received observation: (1, 759) numpy array of type float64, returning action 3\n",
      "Received observation: (1, 759) numpy array of type float64, returning action 3\n",
      "Received observation: (1, 759) numpy array of type float64, returning action 3\n",
      "Received observation: (1, 759) numpy array of type float64, returning action 3\n",
      "Received observation: (1, 759) numpy array of type float64, returning action 3\n",
      "Received observation: (1, 759) numpy array of type float64, returning action 3\n",
      "Received observation: (1, 759) numpy array of type float64, returning action 3\n",
      "Received observation: (1, 759) numpy array of type float64, returning action 3\n",
      "Received observation: (1, 759) numpy array of type float64, returning action 3\n",
      "Received observation: (1, 759) numpy array of type float64, returning action 3\n",
      "Received observation: (1, 759) numpy array of type float64, returning action 3\n",
      "Received observation: (1, 759) numpy array of type float64, returning action 0\n",
      "Received observation: (1, 759) numpy array of type float64, returning action 0\n",
      "Received observation: (1, 759) numpy array of type float64, returning action 3\n",
      "Received observation: (1, 759) numpy array of type float64, returning action 3\n",
      "Received observation: (1, 759) numpy array of type float64, returning action 3\n",
      "Received observation: (1, 759) numpy array of type float64, returning action 0\n",
      "Received observation: (1, 759) numpy array of type float64, returning action 0\n",
      "Received observation: (1, 759) numpy array of type float64, returning action 0\n",
      "Received observation: (1, 759) numpy array of type float64, returning action 0\n",
      "Received observation: (1, 759) numpy array of type float64, returning action 0\n",
      "Received observation: (1, 759) numpy array of type float64, returning action 0\n",
      "Received observation: (1, 759) numpy array of type float64, returning action 0\n",
      "Received observation: (1, 759) numpy array of type float64, returning action 0\n",
      "Received observation: (1, 759) numpy array of type float64, returning action 0\n",
      "Received observation: (1, 759) numpy array of type float64, returning action 0\n",
      "Received observation: (1, 759) numpy array of type float64, returning action 0\n",
      "total reward after 456 iterations: 344.01038961038745\n",
      "average reward: 0.7544087491455865\n"
     ]
    }
   ],
   "source": [
    "rs = run_simulation(f_policy_neural_network, render=1, planet_id=2, track_id=8)"
   ]
  },
  {
   "cell_type": "code",
   "execution_count": null,
   "id": "2a46aadf",
   "metadata": {},
   "outputs": [],
   "source": []
  }
 ],
 "metadata": {
  "kernelspec": {
   "display_name": "Python 3 (ipykernel)",
   "language": "python",
   "name": "python3"
  },
  "language_info": {
   "codemirror_mode": {
    "name": "ipython",
    "version": 3
   },
   "file_extension": ".py",
   "mimetype": "text/x-python",
   "name": "python",
   "nbconvert_exporter": "python",
   "pygments_lexer": "ipython3",
   "version": "3.9.7"
  }
 },
 "nbformat": 4,
 "nbformat_minor": 5
}
